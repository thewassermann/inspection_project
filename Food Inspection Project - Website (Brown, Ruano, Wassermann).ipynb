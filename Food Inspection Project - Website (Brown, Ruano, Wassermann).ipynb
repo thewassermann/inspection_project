{
 "cells": [
  {
   "cell_type": "markdown",
   "metadata": {},
   "source": [
    "# Predicting Food Inspection Outcomes\n",
    "\n",
    "By Evan Brown, Felix Ruano and Gil Wassermann"
   ]
  },
  {
   "cell_type": "markdown",
   "metadata": {},
   "source": [
    "## Background\n",
    "\n",
    "In 2014, Chicago’s Department of Innovation and Technology and Allstate’s Quantitative Research & Analytics came together in order to create a model to use publicly available data to predict food facility inspection outcomes. The project was motivated by the staggering statistic that assessing around 16000 food establishments was tasked to only 36 inspectors. Before this project, food inspections were scheduled in a quasi-random way, the only criterion of which was that each facility was visited in the city-mandated time-frame. While this system ensured that every facility was checked, there was a very real possibility that an establishment with a critical health code violation could continue to operate for a long stretch of time, simply due to the scheduling of inspections. Given the potential for severe illness, Chicago rightly identified this as a public heath issue and turned to data science to solve this problem.\n",
    "\n",
    "The goal of the project was to devise a statistically predictive and robust model that could identify the establishments with the highest potential for violating critical health codes. The most likely potential offenders could then be scheduled for inspection and barred from distriution first, minimizing the amount of time the public is exposed to potentially hazardous foodstuffs. \n",
    "\n",
    "The outcome of the project was quite staggering. According to the Chicago/Allstate project's website the number of establishments with critical violations caught in a two month period increased from 55% to 69% through use of the data-driven workflow. Another impressive statistic is the establishments with critical violations were, on average caught about a week earlier.\n",
    "\n",
    "Although Chicago/Allstate project yielded amazing results, we are going to try our hand at this project. Hopefully, by using different predictor variables and employing different statistucal techniques we can propose an alternative model."
   ]
  },
  {
   "cell_type": "markdown",
   "metadata": {},
   "source": [
    "![title](imgs/chicagopicforproject.jpg)"
   ]
  },
  {
   "cell_type": "markdown",
   "metadata": {},
   "source": [
    "## Predictors\n",
    "\n",
    "One of the most interesting aspects of the Chicago/Allstate project were the plethora of different, and seemingly unrelated predictors that were leveraged by their model. Therefore predictor selection was a key component of our project."
   ]
  },
  {
   "cell_type": "markdown",
   "metadata": {},
   "source": [
    "### Weather\n",
    "\n",
    "Chicago is the Windy City. It can also get excruciatingly cold. One could imagine that restaurant employees would be less than thrilled to perform necessary hygiene proceedures in these conditions. Also, it might be possible that the inspectors themselves are less likely to make site visits in these conditions, which could induce lax behaviour on the part of the establishment owners.\n",
    "\n",
    "While maximum and minimum past temperatures are useful metrics, we need a robust method in order to predict *future* temperatures as a function of inspection dates. Thankfully, temperatures are cyclical, which allows us to fit autoregressive time series models. After investigation of the time series' autocorrelation and partial autocorrelation functions, we fit an AR(12) model to monthly aggregates of the data. Below are our fits:"
   ]
  },
  {
   "cell_type": "markdown",
   "metadata": {},
   "source": [
    "![title](imgs/arma.png)"
   ]
  },
  {
   "cell_type": "markdown",
   "metadata": {},
   "source": [
    "### Sanitary Code Complaints"
   ]
  },
  {
   "cell_type": "markdown",
   "metadata": {},
   "source": [
    "One predictor in our model was created by seeing how many sanitary complaints have been accumulated in each ZIP code using the City of Chicago Open Data Portal since January 1st, 2011. This can be seen as a proxy for the importance placed on hygiene in each neighborhood. **NB**: This figure has been grouped by ward, which roughly equate to, but are slightly more granular, than ZIP code boundaries."
   ]
  },
  {
   "cell_type": "markdown",
   "metadata": {},
   "source": [
    "![title](figures/chicago_sanitation_code_violations_by_ward.png)"
   ]
  },
  {
   "cell_type": "markdown",
   "metadata": {},
   "source": [
    "### Particular Violations\n",
    "\n",
    "One important result to come out of the model is that not all violations are created equal. In fact, there are some violations that lead to failed inspections while others do not. The chart below presents the 20 larges negative coefficients of a regularized logistic regression model on the data."
   ]
  },
  {
   "cell_type": "markdown",
   "metadata": {},
   "source": [
    "![title](imgs/largenegcoefs1.png)"
   ]
  },
  {
   "cell_type": "markdown",
   "metadata": {},
   "source": [
    "As we can see particular types of violation make up the most negative coefficients, which are those that push the value of a point towards 0, signifying a `Fail`. Let us look into what some of these complaints entail:\n",
    "\n",
    "* Code 14 : Previous violation uncorrected\n",
    "* Code 13 : Evidence of rodent or insect infestation, birds, turtles or other animals\n",
    "* Code 3 : Potentially Hazardous Food does not meet temperature requirement during storage, preparation, display and service\n",
    "\n",
    "It is clear that these are particularly critical violations and past incidents of these at a particular restaurant are a clear indication of a lack of a culture of hygiene."
   ]
  },
  {
   "cell_type": "markdown",
   "metadata": {},
   "source": [
    "### Type of Inspection\n",
    "\n",
    "Another key component of our model is the type of inspection that is being carried out. The chart below presents the most positive coefficients of a regularized logistic regression model on the data."
   ]
  },
  {
   "cell_type": "markdown",
   "metadata": {},
   "source": [
    "![title](imgs/largeposcoefs1.png)"
   ]
  },
  {
   "cell_type": "markdown",
   "metadata": {},
   "source": [
    "One thing that is made clear from this graph is that facilities which are being reinspected are more likely to pass a subsequent inspection. This is probably due to the fact that these restaurants have been goaded into more hygienic practices through a `Fail` or a `Pass with Conditions`. We can also see particular area codes here, showing how our location data is affecting the model."
   ]
  },
  {
   "cell_type": "markdown",
   "metadata": {},
   "source": [
    "### Information Decay\n",
    "\n",
    "In appraoching this project, it is necessary to consider the possibility that the amount of information one can infer from a restaurant's inspection results decays with time. This makes intuituve sense as any human reader would place a higher weight on more recent information than older information. \n",
    "\n",
    "We used the following two weighting systems (normalized to be in the range 0 to 1) for each inspection day in order to discount past observations. Linearly weighted information decay sees an identical drop in information after each successive day whereas the exponentially weighted information decay sees an increasing amount of information decay for each successive day. Here, the halflife of the decay is one year."
   ]
  },
  {
   "cell_type": "markdown",
   "metadata": {},
   "source": [
    "![title](imgs/decay.png)"
   ]
  },
  {
   "cell_type": "markdown",
   "metadata": {},
   "source": [
    "## Labels\n",
    "\n",
    "Just as a quick overview of our dataset, here is a pie chart showing the breakdown of the observed inspection results. For our three-class models each of these segments is represented by a different class. In our two-class models, `Pass with Conditions` is termed as a `Fail`."
   ]
  },
  {
   "cell_type": "markdown",
   "metadata": {},
   "source": [
    "![title](imgs/pieofcounts.png)"
   ]
  },
  {
   "cell_type": "markdown",
   "metadata": {},
   "source": [
    "## Model Selection\n",
    "\n",
    "There were three main models that we identified and investigated for this project. These were a Logistic Regression,  a Multiclass Logistic Regression (where we made a third class for `Pass with Conditions`) and a Random Forest. The latter model formed the foundation of the Chicago/Allstate model. Tuning these models with five-fold cross-validation and the evaluating the results yields the following:"
   ]
  },
  {
   "cell_type": "markdown",
   "metadata": {},
   "source": [
    "## The matrix of results from the final poster"
   ]
  },
  {
   "cell_type": "markdown",
   "metadata": {},
   "source": [
    "### Metrics\n",
    "\n",
    "For this project, we selected models based on metrics that are more granular than an accuracy score. For the purposes of this question, the two types of misclassification are not equivalent.\n",
    "\n",
    "For the case of the **false negative**, let us imagine the outcome of a restaurant that has been predicted to fail, but actually passes. As a result of this model, an inspector would be sent to this facility quickly and then be able to ascertain that the establishment poses no health risk. The potential downside of this is unecessary expenditure of resources.\n",
    "\n",
    "For the case of the **false positive**, we see a very different story. This type of restaurant would be predicted to pass, but are actually falling foul of a critical violation. A facility in this position would be a low priority inspection target, and therefore would be visited later. In this extra time taken to inspect the facility, they could diseminate potentially hazardous foods to the population. \n",
    "\n",
    "In light of this we have selected our model to decrease the number of false positives in the model under five-fold cross-validation."
   ]
  },
  {
   "cell_type": "markdown",
   "metadata": {},
   "source": [
    "### Information Decay"
   ]
  },
  {
   "cell_type": "markdown",
   "metadata": {},
   "source": [
    "Including weighting schemes in our model led to a trade-off. In `sklearn`, for a Logistic Regression, there is no `solver` that allows LASSO regularization as well as attaching weights to the samples. We then attemped to fit the previously tuned Random Forest a freshly tuned Ridge Regularized Logistic Regression to the data. While the majority of the higher-level scores were comparable, in incorporating both linear and exponential decay we increased the number of false positives in our predicted values under five-fold cross-validation. Our analysis yielded the following results:"
   ]
  },
  {
   "cell_type": "markdown",
   "metadata": {},
   "source": [
    "## MAKE THIS A NICE TABLE\n",
    "\n",
    "**LR**:\n",
    "TP    0.667117\n",
    "FN    0.025549\n",
    "TN    0.254160\n",
    "FP    0.053175\n",
    "\n",
    "**RF**:\n",
    "TP    0.675719\n",
    "FN    0.016946\n",
    "TN    0.246860\n",
    "FP    0.060474\n"
   ]
  },
  {
   "cell_type": "markdown",
   "metadata": {},
   "source": [
    "As we see a decrease in the performance of our key metric, we omitted weightings based on information decay in our final model."
   ]
  },
  {
   "cell_type": "markdown",
   "metadata": {},
   "source": [
    "### Final Model\n",
    "\n",
    "In light of the above results, we can conclude that the most effective model to use in this scenario is the tuned $\\ell 1$ Logistic Regression. There are several reasons for this:\n",
    "1. The model is easily interpretable. The values of the coefficients can be used to explain the importance of different predictors to policy-makers in order to justify budget allocations.\n",
    "2. The model takes in a large number of predictors. LASSO regularization reduces the number of predictors used in order to suppress noise from unimportant predictors.\n",
    "3. There is likely to be a response to the data-driven workflow from facility operators. This model is lightweight enough to be refit easily to accomodate this response. \n",
    "4. Shown to be less prone to overfitting than the Random Forest model when applied to the whole dataset."
   ]
  },
  {
   "cell_type": "markdown",
   "metadata": {},
   "source": [
    "## Bibliography, Links and Further Reading\n",
    "    \n",
    "https://chicago.github.io/food-inspections-evaluation/ : Main page for the Chicago/Allstate project\n",
    "\n",
    "https://github.com/Chicago/food-inspections-evaluation : Open source code in R for the Chicago/Allstate project\n",
    "\n",
    "http://www.citylab.com/cityfixer/2016/01/chicago-is-predicting-food-safety-violations-why-arent-other-cities/422511/ : Article about the Chicago/Allstate project.\n",
    "\n",
    "https://data.cityofchicago.org/ : City of Chicago Open Data Portal"
   ]
  },
  {
   "cell_type": "code",
   "execution_count": null,
   "metadata": {
    "collapsed": true
   },
   "outputs": [],
   "source": []
  }
 ],
 "metadata": {
  "anaconda-cloud": {},
  "kernelspec": {
   "display_name": "Python [conda root]",
   "language": "python",
   "name": "conda-root-py"
  },
  "language_info": {
   "codemirror_mode": {
    "name": "ipython",
    "version": 2
   },
   "file_extension": ".py",
   "mimetype": "text/x-python",
   "name": "python",
   "nbconvert_exporter": "python",
   "pygments_lexer": "ipython2",
   "version": "2.7.12"
  }
 },
 "nbformat": 4,
 "nbformat_minor": 1
}
