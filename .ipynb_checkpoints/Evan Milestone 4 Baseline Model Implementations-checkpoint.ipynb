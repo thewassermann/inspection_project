{
 "cells": [
  {
   "cell_type": "markdown",
   "metadata": {},
   "source": [
    "# Milestone #4"
   ]
  },
  {
   "cell_type": "markdown",
   "metadata": {},
   "source": [
    "In this notebook we will look to fit a baseline model to the data. We first need severalfunctions to be able to split and analyze our data. First and foremost we will need to import sklearn packages in order to implement the model. We will also need to build some functions that will allow us to analyze the efficacy of particular models."
   ]
  },
  {
   "cell_type": "code",
   "execution_count": 86,
   "metadata": {
    "collapsed": false
   },
   "outputs": [],
   "source": [
    "import numpy as np\n",
    "import pandas as pd\n",
    "import matplotlib.pyplot as plt\n",
    "\n",
    "from sklearn import preprocessing\n",
    "from sklearn import cross_validation\n",
    "from sklearn import metrics\n",
    "from sklearn import ensemble\n",
    "from sklearn import discriminant_analysis\n",
    "from sklearn import linear_model\n",
    "from sklearn.preprocessing import OneHotEncoder\n",
    "\n",
    "import datetime\n",
    "\n",
    "%matplotlib inline"
   ]
  },
  {
   "cell_type": "code",
   "execution_count": 20,
   "metadata": {
    "collapsed": true
   },
   "outputs": [],
   "source": [
    "def KFold_Score(folds, X, y, mdl, metric_func=metrics.accuracy_score):\n",
    "    \"\"\"\n",
    "    Function to take in a single training set and check the efficacy \n",
    "    of a particular model using `folds`-fold validation.\n",
    "    \n",
    "    The function returns the mean of the `folds` `metric` scores\n",
    "    \"\"\"\n",
    "    # fold the dataset into `folds`\n",
    "    kf = cross_validation.KFold(len(X), n_folds=folds)\n",
    "    \n",
    "    # array to store results\n",
    "    kf_res = np.empty((folds,))\n",
    "    \n",
    "    for i, (train_ix, test_ix) in enumerate(kf):\n",
    "        fold_model = mdl\n",
    "        fold_model.fit(X[train_ix, :], y[train_ix])\n",
    "        \n",
    "        # inputs are y_true, y_pred\n",
    "        kf_res[i] = metric_func(y[test_ix], fold_model.predict(X[test_ix, :]))\n",
    "        \n",
    "    # aggregate scores by averaging \n",
    "    return np.nanmean(kf_res)"
   ]
  },
  {
   "cell_type": "markdown",
   "metadata": {},
   "source": [
    "Let us load in our data."
   ]
  },
  {
   "cell_type": "code",
   "execution_count": 88,
   "metadata": {
    "collapsed": true
   },
   "outputs": [],
   "source": [
    "FI = pd.read_csv('datasets/Food_Inspections.csv', index_col='Inspection ID')"
   ]
  },
  {
   "cell_type": "code",
   "execution_count": 83,
   "metadata": {
    "collapsed": false
   },
   "outputs": [
    {
     "data": {
      "text/html": [
       "<div>\n",
       "<table border=\"1\" class=\"dataframe\">\n",
       "  <thead>\n",
       "    <tr style=\"text-align: right;\">\n",
       "      <th></th>\n",
       "      <th>DBA Name</th>\n",
       "      <th>AKA Name</th>\n",
       "      <th>License #</th>\n",
       "      <th>Facility Type</th>\n",
       "      <th>Risk</th>\n",
       "      <th>Address</th>\n",
       "      <th>City</th>\n",
       "      <th>State</th>\n",
       "      <th>Zip</th>\n",
       "      <th>Inspection Date</th>\n",
       "      <th>Inspection Type</th>\n",
       "      <th>Results</th>\n",
       "      <th>Violations</th>\n",
       "      <th>Latitude</th>\n",
       "      <th>Longitude</th>\n",
       "      <th>Location</th>\n",
       "    </tr>\n",
       "    <tr>\n",
       "      <th>Inspection ID</th>\n",
       "      <th></th>\n",
       "      <th></th>\n",
       "      <th></th>\n",
       "      <th></th>\n",
       "      <th></th>\n",
       "      <th></th>\n",
       "      <th></th>\n",
       "      <th></th>\n",
       "      <th></th>\n",
       "      <th></th>\n",
       "      <th></th>\n",
       "      <th></th>\n",
       "      <th></th>\n",
       "      <th></th>\n",
       "      <th></th>\n",
       "      <th></th>\n",
       "    </tr>\n",
       "  </thead>\n",
       "  <tbody>\n",
       "    <tr>\n",
       "      <th>1967170</th>\n",
       "      <td>GOOSE ISLAND BAR - T1, B4</td>\n",
       "      <td>GOOSE ISLAND (T1-B4)</td>\n",
       "      <td>2477070.0</td>\n",
       "      <td>Restaurant</td>\n",
       "      <td>Risk 2 (Medium)</td>\n",
       "      <td>11601 W TOUHY AVE</td>\n",
       "      <td>CHICAGO</td>\n",
       "      <td>IL</td>\n",
       "      <td>60666.0</td>\n",
       "      <td>10/25/2016</td>\n",
       "      <td>License</td>\n",
       "      <td>Pass</td>\n",
       "      <td>NaN</td>\n",
       "      <td>42.008536</td>\n",
       "      <td>-87.914428</td>\n",
       "      <td>(42.008536400868735, -87.91442843927047)</td>\n",
       "    </tr>\n",
       "    <tr>\n",
       "      <th>1967164</th>\n",
       "      <td>ERMEL'S</td>\n",
       "      <td>ERMEL'S</td>\n",
       "      <td>2484238.0</td>\n",
       "      <td>Restaurant</td>\n",
       "      <td>Risk 1 (High)</td>\n",
       "      <td>5729 N NORTHWEST HWY</td>\n",
       "      <td>CHICAGO</td>\n",
       "      <td>IL</td>\n",
       "      <td>60646.0</td>\n",
       "      <td>10/25/2016</td>\n",
       "      <td>License</td>\n",
       "      <td>Pass</td>\n",
       "      <td>32. FOOD AND NON-FOOD CONTACT SURFACES PROPERL...</td>\n",
       "      <td>41.986001</td>\n",
       "      <td>-87.787528</td>\n",
       "      <td>(41.98600113711187, -87.78752792018707)</td>\n",
       "    </tr>\n",
       "    <tr>\n",
       "      <th>1967146</th>\n",
       "      <td>WENDY'S PROPERTIES, LLC</td>\n",
       "      <td>WENDY'S</td>\n",
       "      <td>2469194.0</td>\n",
       "      <td>Restaurant</td>\n",
       "      <td>Risk 1 (High)</td>\n",
       "      <td>6324 N WESTERN AVE</td>\n",
       "      <td>CHICAGO</td>\n",
       "      <td>IL</td>\n",
       "      <td>60659.0</td>\n",
       "      <td>10/25/2016</td>\n",
       "      <td>License</td>\n",
       "      <td>Pass</td>\n",
       "      <td>NaN</td>\n",
       "      <td>41.996677</td>\n",
       "      <td>-87.689996</td>\n",
       "      <td>(41.99667685737697, -87.68999575516291)</td>\n",
       "    </tr>\n",
       "    <tr>\n",
       "      <th>1967133</th>\n",
       "      <td>LEARN TOGETHER GROW TOGETHER CHILD DEVELOPMENT...</td>\n",
       "      <td>LEARN TOGETHER GROW TOGETHER CHILD DEVELOPMENT C</td>\n",
       "      <td>2384887.0</td>\n",
       "      <td>Daycare Above and Under 2 Years</td>\n",
       "      <td>Risk 1 (High)</td>\n",
       "      <td>1126 W 99TH ST</td>\n",
       "      <td>CHICAGO</td>\n",
       "      <td>IL</td>\n",
       "      <td>60643.0</td>\n",
       "      <td>10/25/2016</td>\n",
       "      <td>License</td>\n",
       "      <td>Pass</td>\n",
       "      <td>32. FOOD AND NON-FOOD CONTACT SURFACES PROPERL...</td>\n",
       "      <td>41.714241</td>\n",
       "      <td>-87.651464</td>\n",
       "      <td>(41.714240500986136, -87.6514643961654)</td>\n",
       "    </tr>\n",
       "    <tr>\n",
       "      <th>1967115</th>\n",
       "      <td>Porkchop</td>\n",
       "      <td>Porkchop</td>\n",
       "      <td>2373923.0</td>\n",
       "      <td>Restaurant</td>\n",
       "      <td>Risk 1 (High)</td>\n",
       "      <td>29 E ADAMS ST</td>\n",
       "      <td>CHICAGO</td>\n",
       "      <td>IL</td>\n",
       "      <td>60603.0</td>\n",
       "      <td>10/24/2016</td>\n",
       "      <td>Short Form Complaint</td>\n",
       "      <td>Pass</td>\n",
       "      <td>NaN</td>\n",
       "      <td>41.879397</td>\n",
       "      <td>-87.626631</td>\n",
       "      <td>(41.87939700209408, -87.62663087278814)</td>\n",
       "    </tr>\n",
       "  </tbody>\n",
       "</table>\n",
       "</div>"
      ],
      "text/plain": [
       "                                                        DBA Name  \\\n",
       "Inspection ID                                                      \n",
       "1967170                                GOOSE ISLAND BAR - T1, B4   \n",
       "1967164                                                  ERMEL'S   \n",
       "1967146                                  WENDY'S PROPERTIES, LLC   \n",
       "1967133        LEARN TOGETHER GROW TOGETHER CHILD DEVELOPMENT...   \n",
       "1967115                                                 Porkchop   \n",
       "\n",
       "                                                       AKA Name  License #  \\\n",
       "Inspection ID                                                                \n",
       "1967170                                    GOOSE ISLAND (T1-B4)  2477070.0   \n",
       "1967164                                                 ERMEL'S  2484238.0   \n",
       "1967146                                                 WENDY'S  2469194.0   \n",
       "1967133        LEARN TOGETHER GROW TOGETHER CHILD DEVELOPMENT C  2384887.0   \n",
       "1967115                                                Porkchop  2373923.0   \n",
       "\n",
       "                                 Facility Type             Risk  \\\n",
       "Inspection ID                                                     \n",
       "1967170                             Restaurant  Risk 2 (Medium)   \n",
       "1967164                             Restaurant    Risk 1 (High)   \n",
       "1967146                             Restaurant    Risk 1 (High)   \n",
       "1967133        Daycare Above and Under 2 Years    Risk 1 (High)   \n",
       "1967115                             Restaurant    Risk 1 (High)   \n",
       "\n",
       "                             Address     City State      Zip Inspection Date  \\\n",
       "Inspection ID                                                                  \n",
       "1967170           11601 W TOUHY AVE   CHICAGO    IL  60666.0      10/25/2016   \n",
       "1967164        5729 N NORTHWEST HWY   CHICAGO    IL  60646.0      10/25/2016   \n",
       "1967146          6324 N WESTERN AVE   CHICAGO    IL  60659.0      10/25/2016   \n",
       "1967133              1126 W 99TH ST   CHICAGO    IL  60643.0      10/25/2016   \n",
       "1967115               29 E ADAMS ST   CHICAGO    IL  60603.0      10/24/2016   \n",
       "\n",
       "                    Inspection Type Results  \\\n",
       "Inspection ID                                 \n",
       "1967170                     License    Pass   \n",
       "1967164                     License    Pass   \n",
       "1967146                     License    Pass   \n",
       "1967133                     License    Pass   \n",
       "1967115        Short Form Complaint    Pass   \n",
       "\n",
       "                                                      Violations   Latitude  \\\n",
       "Inspection ID                                                                 \n",
       "1967170                                                      NaN  42.008536   \n",
       "1967164        32. FOOD AND NON-FOOD CONTACT SURFACES PROPERL...  41.986001   \n",
       "1967146                                                      NaN  41.996677   \n",
       "1967133        32. FOOD AND NON-FOOD CONTACT SURFACES PROPERL...  41.714241   \n",
       "1967115                                                      NaN  41.879397   \n",
       "\n",
       "               Longitude                                  Location  \n",
       "Inspection ID                                                       \n",
       "1967170       -87.914428  (42.008536400868735, -87.91442843927047)  \n",
       "1967164       -87.787528   (41.98600113711187, -87.78752792018707)  \n",
       "1967146       -87.689996   (41.99667685737697, -87.68999575516291)  \n",
       "1967133       -87.651464   (41.714240500986136, -87.6514643961654)  \n",
       "1967115       -87.626631   (41.87939700209408, -87.62663087278814)  "
      ]
     },
     "execution_count": 83,
     "metadata": {},
     "output_type": "execute_result"
    }
   ],
   "source": [
    "FI.head()"
   ]
  },
  {
   "cell_type": "markdown",
   "metadata": {},
   "source": [
    "### Data Cleaning\n",
    "\n",
    "This data definitely needs to be cleaned. This will take several steps.\n",
    "\n",
    "* Remove immediate non-predictor columns (`DBA Name`, `AKA Name`, `License #` (although this is useful later), `Address`)\n",
    "* Remove uneccesary predictor columns (`City`, `State` (all in Chicago, IL), `Location` (already encapsulated in `Latitude`/`Longitude`)\n",
    "* Remove (temporarily) inspection date. This will be useful when we add in data about weather\n",
    "* Conversion of some columns into dummy variables easier for a computer to interpret.\n",
    "    * `Facility Type` -> dummies (each separate)\n",
    "    * `Risk` -> dummies (place on a scale, 1 highest etc.)\n",
    "    * `Zip` -> dummies (each separate)\n",
    "    * `Inspection Type` -> dummies (each separate)\n",
    "    * `Violations` -> dummies (each separate),\n",
    "* Extra Column for Number of `Violations`\n",
    "\n",
    "We will need to abstract this whole process into a function so we can clean testing / OOS data."
   ]
  },
  {
   "cell_type": "markdown",
   "metadata": {},
   "source": [
    "We also need to consider the following:"
   ]
  },
  {
   "cell_type": "code",
   "execution_count": 23,
   "metadata": {
    "collapsed": false
   },
   "outputs": [
    {
     "data": {
      "text/plain": [
       "31097"
      ]
     },
     "execution_count": 23,
     "metadata": {},
     "output_type": "execute_result"
    }
   ],
   "source": [
    "len(FI['License #'].unique())"
   ]
  },
  {
   "cell_type": "code",
   "execution_count": 24,
   "metadata": {
    "collapsed": false
   },
   "outputs": [
    {
     "data": {
      "text/plain": [
       "134192"
      ]
     },
     "execution_count": 24,
     "metadata": {},
     "output_type": "execute_result"
    }
   ],
   "source": [
    "len(FI.index.unique())"
   ]
  },
  {
   "cell_type": "markdown",
   "metadata": {},
   "source": [
    "The above means that in this dataset, many restaurants have been inspected more than once. What is unique to each restaurant is its `License #`.\n",
    "\n",
    "The reason that this is a problem is that there would probably be some conditional distribution on past inspections and past inspection results. This will be a good thing to explore going forward. Does a failing grade on an inspection incentivize restaurants to clean up their act? Do restraunt who pass get complacent and relx their hygeine standards? "
   ]
  },
  {
   "cell_type": "code",
   "execution_count": 148,
   "metadata": {
    "collapsed": false
   },
   "outputs": [
    {
     "data": {
      "text/html": [
       "<div>\n",
       "<table border=\"1\" class=\"dataframe\">\n",
       "  <thead>\n",
       "    <tr style=\"text-align: right;\">\n",
       "      <th></th>\n",
       "      <th>DBA Name</th>\n",
       "      <th>AKA Name</th>\n",
       "      <th>Facility Type</th>\n",
       "      <th>Risk</th>\n",
       "      <th>Address</th>\n",
       "      <th>City</th>\n",
       "      <th>State</th>\n",
       "      <th>Zip</th>\n",
       "      <th>Inspection Date</th>\n",
       "      <th>Inspection Type</th>\n",
       "      <th>Results</th>\n",
       "      <th>Violations</th>\n",
       "      <th>Latitude</th>\n",
       "      <th>Longitude</th>\n",
       "      <th>Location</th>\n",
       "    </tr>\n",
       "    <tr>\n",
       "      <th>License #</th>\n",
       "      <th></th>\n",
       "      <th></th>\n",
       "      <th></th>\n",
       "      <th></th>\n",
       "      <th></th>\n",
       "      <th></th>\n",
       "      <th></th>\n",
       "      <th></th>\n",
       "      <th></th>\n",
       "      <th></th>\n",
       "      <th></th>\n",
       "      <th></th>\n",
       "      <th></th>\n",
       "      <th></th>\n",
       "      <th></th>\n",
       "    </tr>\n",
       "  </thead>\n",
       "  <tbody>\n",
       "    <tr>\n",
       "      <th>0.0</th>\n",
       "      <td>QuiteFrankly,Ltd.</td>\n",
       "      <td>UPS Cafeteria</td>\n",
       "      <td>Restaurant</td>\n",
       "      <td>Risk 1 (High)</td>\n",
       "      <td>1400 S JEFFERSON ST</td>\n",
       "      <td>CHICAGO</td>\n",
       "      <td>IL</td>\n",
       "      <td>60607.0</td>\n",
       "      <td>01/06/2010</td>\n",
       "      <td>Canvass</td>\n",
       "      <td>Pass</td>\n",
       "      <td>33. FOOD AND NON-FOOD CONTACT EQUIPMENT UTENSI...</td>\n",
       "      <td>41.863501</td>\n",
       "      <td>-87.642210</td>\n",
       "      <td>(41.86350135244771, -87.64220950077579)</td>\n",
       "    </tr>\n",
       "    <tr>\n",
       "      <th>1.0</th>\n",
       "      <td>HARVEST CRUSADES MINISTRIES</td>\n",
       "      <td>HARVEST CRUSADES MINISTRIES</td>\n",
       "      <td>Special Event</td>\n",
       "      <td>Risk 2 (Medium)</td>\n",
       "      <td>118 N CENTRAL AVE</td>\n",
       "      <td>CHICAGO</td>\n",
       "      <td>IL</td>\n",
       "      <td>60644.0</td>\n",
       "      <td>06/04/2010</td>\n",
       "      <td>Special Events (Festivals)</td>\n",
       "      <td>Pass</td>\n",
       "      <td>NaN</td>\n",
       "      <td>41.882845</td>\n",
       "      <td>-87.765095</td>\n",
       "      <td>(41.88284507471884, -87.76509545204392)</td>\n",
       "    </tr>\n",
       "    <tr>\n",
       "      <th>2.0</th>\n",
       "      <td>COSI</td>\n",
       "      <td>COSI</td>\n",
       "      <td>Restaurant</td>\n",
       "      <td>Risk 1 (High)</td>\n",
       "      <td>230 W MONROE ST</td>\n",
       "      <td>CHICAGO</td>\n",
       "      <td>IL</td>\n",
       "      <td>60606.0</td>\n",
       "      <td>06/15/2010</td>\n",
       "      <td>Canvass</td>\n",
       "      <td>Pass</td>\n",
       "      <td>32. FOOD AND NON-FOOD CONTACT SURFACES PROPERL...</td>\n",
       "      <td>41.880757</td>\n",
       "      <td>-87.634709</td>\n",
       "      <td>(41.88075715864721, -87.6347092983425)</td>\n",
       "    </tr>\n",
       "    <tr>\n",
       "      <th>9.0</th>\n",
       "      <td>XANDO COFFEE &amp; BAR / COSI SANDWICH BAR</td>\n",
       "      <td>XANDO COFFEE &amp; BAR / COSI SANDWICH BAR</td>\n",
       "      <td>Restaurant</td>\n",
       "      <td>Risk 1 (High)</td>\n",
       "      <td>116 S MICHIGAN AVE</td>\n",
       "      <td>CHICAGO</td>\n",
       "      <td>IL</td>\n",
       "      <td>60603.0</td>\n",
       "      <td>07/15/2010</td>\n",
       "      <td>Suspected Food Poisoning</td>\n",
       "      <td>Pass</td>\n",
       "      <td>32. FOOD AND NON-FOOD CONTACT SURFACES PROPERL...</td>\n",
       "      <td>41.880396</td>\n",
       "      <td>-87.624502</td>\n",
       "      <td>(41.88039583825962, -87.62450172159464)</td>\n",
       "    </tr>\n",
       "    <tr>\n",
       "      <th>40.0</th>\n",
       "      <td>COSI</td>\n",
       "      <td>COSI</td>\n",
       "      <td>Restaurant</td>\n",
       "      <td>Risk 1 (High)</td>\n",
       "      <td>233 N MICHIGAN AVE</td>\n",
       "      <td>CHICAGO</td>\n",
       "      <td>IL</td>\n",
       "      <td>60601.0</td>\n",
       "      <td>08/23/2010</td>\n",
       "      <td>Canvass</td>\n",
       "      <td>Pass</td>\n",
       "      <td>34. FLOORS: CONSTRUCTED PER CODE, CLEANED, GOO...</td>\n",
       "      <td>41.886567</td>\n",
       "      <td>-87.624385</td>\n",
       "      <td>(41.886567370886944, -87.62438467059714)</td>\n",
       "    </tr>\n",
       "  </tbody>\n",
       "</table>\n",
       "</div>"
      ],
      "text/plain": [
       "                                         DBA Name  \\\n",
       "License #                                           \n",
       "0.0                             QuiteFrankly,Ltd.   \n",
       "1.0                   HARVEST CRUSADES MINISTRIES   \n",
       "2.0                                          COSI   \n",
       "9.0        XANDO COFFEE & BAR / COSI SANDWICH BAR   \n",
       "40.0                                         COSI   \n",
       "\n",
       "                                         AKA Name  Facility Type  \\\n",
       "License #                                                          \n",
       "0.0                                 UPS Cafeteria     Restaurant   \n",
       "1.0                   HARVEST CRUSADES MINISTRIES  Special Event   \n",
       "2.0                                          COSI     Restaurant   \n",
       "9.0        XANDO COFFEE & BAR / COSI SANDWICH BAR     Restaurant   \n",
       "40.0                                         COSI     Restaurant   \n",
       "\n",
       "                      Risk               Address     City State      Zip  \\\n",
       "License #                                                                  \n",
       "0.0          Risk 1 (High)  1400 S JEFFERSON ST   CHICAGO    IL  60607.0   \n",
       "1.0        Risk 2 (Medium)    118 N CENTRAL AVE   CHICAGO    IL  60644.0   \n",
       "2.0          Risk 1 (High)      230 W MONROE ST   CHICAGO    IL  60606.0   \n",
       "9.0          Risk 1 (High)   116 S MICHIGAN AVE   CHICAGO    IL  60603.0   \n",
       "40.0         Risk 1 (High)   233 N MICHIGAN AVE   CHICAGO    IL  60601.0   \n",
       "\n",
       "          Inspection Date             Inspection Type Results  \\\n",
       "License #                                                       \n",
       "0.0            01/06/2010                     Canvass    Pass   \n",
       "1.0            06/04/2010  Special Events (Festivals)    Pass   \n",
       "2.0            06/15/2010                     Canvass    Pass   \n",
       "9.0            07/15/2010    Suspected Food Poisoning    Pass   \n",
       "40.0           08/23/2010                     Canvass    Pass   \n",
       "\n",
       "                                                  Violations   Latitude  \\\n",
       "License #                                                                 \n",
       "0.0        33. FOOD AND NON-FOOD CONTACT EQUIPMENT UTENSI...  41.863501   \n",
       "1.0                                                      NaN  41.882845   \n",
       "2.0        32. FOOD AND NON-FOOD CONTACT SURFACES PROPERL...  41.880757   \n",
       "9.0        32. FOOD AND NON-FOOD CONTACT SURFACES PROPERL...  41.880396   \n",
       "40.0       34. FLOORS: CONSTRUCTED PER CODE, CLEANED, GOO...  41.886567   \n",
       "\n",
       "           Longitude                                  Location  \n",
       "License #                                                       \n",
       "0.0       -87.642210   (41.86350135244771, -87.64220950077579)  \n",
       "1.0       -87.765095   (41.88284507471884, -87.76509545204392)  \n",
       "2.0       -87.634709    (41.88075715864721, -87.6347092983425)  \n",
       "9.0       -87.624502   (41.88039583825962, -87.62450172159464)  \n",
       "40.0      -87.624385  (41.886567370886944, -87.62438467059714)  "
      ]
     },
     "execution_count": 148,
     "metadata": {},
     "output_type": "execute_result"
    }
   ],
   "source": [
    "FI.groupby('License #').last().head(n=5)"
   ]
  },
  {
   "cell_type": "markdown",
   "metadata": {},
   "source": [
    "However, for this baseline model, we will ignore these potential complications, although we undertand that delving into this will be an important part of future work.\n",
    "\n",
    "Also, note that for our baseline model, we decompose the results into `Pass` or `Fail`. We hope to include multi-class classification into our final model too.\n",
    "\n",
    "There are some further concerns too. For example, there are a great deal of Inspction Types. Let us see how many of them have been used. *NB:* A personal favourite is 'TWO PEOPLE ATE AND GOT SICK'."
   ]
  },
  {
   "cell_type": "code",
   "execution_count": 26,
   "metadata": {
    "collapsed": false
   },
   "outputs": [
    {
     "data": {
      "text/plain": [
       "array(['License', 'Short Form Complaint', 'License Re-Inspection',\n",
       "       'Complaint', 'Complaint Re-Inspection', 'Canvass',\n",
       "       'Suspected Food Poisoning Re-inspection', 'Canvass Re-Inspection',\n",
       "       'Suspected Food Poisoning', 'Tag Removal', 'Consultation',\n",
       "       'Recent Inspection', 'Special Events (Festivals)', nan, 'Not Ready',\n",
       "       'License-Task Force', 'Complaint-Fire Re-inspection',\n",
       "       'Complaint-Fire', 'Short Form Fire-Complaint', 'Non-Inspection',\n",
       "       'KITCHEN CLOSED FOR RENOVATION', 'O.B.', 'CORRECTIVE ACTION',\n",
       "       'Package Liquor 1474', 'LICENSE CANCELED BY OWNER',\n",
       "       'OWNER SUSPENDED OPERATION/LICENSE', 'LICENSE CONSULTATION',\n",
       "       'License consultation', 'Task Force Liquor 1475',\n",
       "       'Illegal Operation', 'fire complaint',\n",
       "       'TWO PEOPLE ATE AND GOT SICK.', 'Pre-License Consultation',\n",
       "       'CANVASS SPECIAL EVENTS', 'CANVASS SCHOOL/SPECIAL EVENT',\n",
       "       'OUT OF BUSINESS', 'No entry', 'NO ENTRY', 'no entry',\n",
       "       'TASK FORCE LIQUOR 1470', 'Sample Collection', 'license task 1474',\n",
       "       'LICENSE REQUEST', 'FIRE/COMPLAIN', 'Task Force for liquor 1474',\n",
       "       'Out of Business', 'ADDENDUM', '1315 license reinspection',\n",
       "       'No Entry', 'Task force liquor inspection 1474',\n",
       "       'Task Force Liquor Catering', 'SFP', 'CANVAS', 'SFP/COMPLAINT',\n",
       "       'TASK FORCE NIGHT', 'SFP/Complaint', 'expansion',\n",
       "       'SMOKING COMPLAINT', 'SFP RECENTLY INSPECTED', 'CANVASS',\n",
       "       'TAVERN 1470', 'LICENSE RENEWAL INSPECTION FOR DAYCARE',\n",
       "       'LICENSE RENEWAL FOR DAYCARE', 'CHANGED COURT DATE',\n",
       "       'CANVASS RE INSPECTION OF CLOSE UP', 'TASKFORCE',\n",
       "       'LICENSE TASK FORCE / NOT -FOR-PROFIT CLUB',\n",
       "       'LICENSE TASK FORCE / NOT -FOR-PROFIT CLU', 'LICENSE/NOT READY',\n",
       "       'NO ENTRY-SHORT COMPLAINT)', 'CITF', 'KIDS CAFE',\n",
       "       'LICENSE DAYCARE 1586', 'task force(1470) liquor tavern',\n",
       "       'LICENSE WRONG ADDRESS', 'error save', 'CANVASS/SPECIAL EVENT',\n",
       "       'DAY CARE LICENSE RENEWAL', 'LIQUOR CATERING', 'Summer Feeding',\n",
       "       'TASK FORCE PACKAGE LIQUOR', 'citation re-issued',\n",
       "       'TASTE OF CHICAGO', 'LICENSE', 'HACCP QUESTIONAIRE',\n",
       "       'out ofbusiness', 'CLOSE-UP/COMPLAINT REINSPECTION',\n",
       "       'finish complaint inspection from 5-18-10', 'Duplicated',\n",
       "       'sfp/complaint', 'license', 'RECALL INSPECTION',\n",
       "       'TASK FORCE LIQUOR (1481)', 'Special Task Force',\n",
       "       'REINSPECTION OF 48 HOUR NOTICE', 'REINSPECTION',\n",
       "       'Business Not Located', 'CANVASS FOR RIB FEST',\n",
       "       'RE-INSPECTION OF CLOSE-UP', 'task force', 'SPECIAL TASK FORCE',\n",
       "       'LIQOUR TASK FORCE NOT READY', 'TASK FORCE NOT READY',\n",
       "       'POSSIBLE FBI', 'TASK FORCE LIQUOR 1474', \"Kids Cafe'\",\n",
       "       'TASK FORCE PACKAGE GOODS 1474'], dtype=object)"
      ]
     },
     "execution_count": 26,
     "metadata": {},
     "output_type": "execute_result"
    }
   ],
   "source": [
    "FI['Inspection Type'].unique()"
   ]
  },
  {
   "cell_type": "code",
   "execution_count": 27,
   "metadata": {
    "collapsed": false
   },
   "outputs": [
    {
     "data": {
      "text/plain": [
       "Inspection Type\n",
       "Canvass                                   70424\n",
       "License                                   17610\n",
       "Canvass Re-Inspection                     12835\n",
       "Complaint                                 12266\n",
       "License Re-Inspection                      6631\n",
       "Short Form Complaint                       5329\n",
       "Complaint Re-Inspection                    5061\n",
       "Suspected Food Poisoning                    649\n",
       "Consultation                                646\n",
       "License-Task Force                          605\n",
       "Tag Removal                                 603\n",
       "Out of Business                             284\n",
       "Task Force Liquor 1475                      254\n",
       "Recent Inspection                           167\n",
       "Complaint-Fire                              161\n",
       "Suspected Food Poisoning Re-inspection      151\n",
       "Short Form Fire-Complaint                   113\n",
       "No Entry                                     60\n",
       "Special Events (Festivals)                   56\n",
       "Complaint-Fire Re-inspection                 44\n",
       "Package Liquor 1474                          44\n",
       "OUT OF BUSINESS                              22\n",
       "LICENSE REQUEST                              19\n",
       "Pre-License Consultation                     15\n",
       "Not Ready                                    10\n",
       "Non-Inspection                               10\n",
       "NO ENTRY                                      7\n",
       "Illegal Operation                             5\n",
       "no entry                                      4\n",
       "SFP                                           4\n",
       "Name: License #, dtype: int64"
      ]
     },
     "execution_count": 27,
     "metadata": {},
     "output_type": "execute_result"
    }
   ],
   "source": [
    "FI.groupby('Inspection Type').count().loc[:, 'License #'].sort_values(ascending=False).head(30)"
   ]
  },
  {
   "cell_type": "markdown",
   "metadata": {},
   "source": [
    "As we can see from the data above, the vast majority of `Inspection Type`s are confined to a small subset of the total number of types listed above. It would make sense to only use the most common data as columns for a dummy predictor and store the rest under the custom label of `misc`. The cutoff for this will be 100 registered inspection types. Although it would be more ideal to do this in a more rigorous automated, it is clear that we do not want information as to food poisoning reinspections masked by noise in the catch-all column. We do something very similar to the `Facility Type Column`"
   ]
  },
  {
   "cell_type": "code",
   "execution_count": 28,
   "metadata": {
    "collapsed": false
   },
   "outputs": [
    {
     "data": {
      "text/plain": [
       "{'Canvass',\n",
       " 'Canvass Re-Inspection',\n",
       " 'Complaint',\n",
       " 'Complaint Re-Inspection',\n",
       " 'Complaint-Fire',\n",
       " 'Consultation',\n",
       " 'License',\n",
       " 'License Re-Inspection',\n",
       " 'License-Task Force',\n",
       " 'Out of Business',\n",
       " 'Recent Inspection',\n",
       " 'Short Form Complaint',\n",
       " 'Short Form Fire-Complaint',\n",
       " 'Suspected Food Poisoning',\n",
       " 'Suspected Food Poisoning Re-inspection',\n",
       " 'Tag Removal',\n",
       " 'Task Force Liquor 1475'}"
      ]
     },
     "execution_count": 28,
     "metadata": {},
     "output_type": "execute_result"
    }
   ],
   "source": [
    "set(FI.groupby('Inspection Type').count().loc[:, 'License #'].sort_values(ascending=False).iloc[:17].index)"
   ]
  },
  {
   "cell_type": "code",
   "execution_count": 122,
   "metadata": {
    "collapsed": false
   },
   "outputs": [],
   "source": [
    "import re\n",
    "\n",
    "#Encode categorical variables using sklearn's one-hot encoder\n",
    "def encode_categorical(array):\n",
    "    if not array.dtype == np.dtype('float64'):\n",
    "        return preprocessing.LabelEncoder().fit_transform(array) \n",
    "    else:\n",
    "        return array\n",
    "    \n",
    "# helper functions abstracted for clarity, adaptibility\n",
    "def results_helper(x):\n",
    "    \"\"\"\n",
    "    Helper for results column\n",
    "    \"\"\"\n",
    "    return np.where(x == 'Pass', 1, 0)\n",
    "\n",
    "def inp_type_helper(df, col):\n",
    "    \"\"\"\n",
    "    Helper for inspection type column.\n",
    "    Would be great to have a better metric than 17 arbitrarily for the future.\n",
    "    \"\"\"\n",
    "    dummy_set = set(df.groupby('Inspection Type').count().loc[:, 'License #'].sort_values(ascending=False).iloc[:17].index)\n",
    "    return ['Misc' if x not in dummy_set else x for x in col]\n",
    "\n",
    "\n",
    "def fac_type_helper(df, col):\n",
    "    \"\"\"\n",
    "    Helper for inspection type column.\n",
    "    Would be great to have a better metric than 17 arbitrarily for the future.\n",
    "    \"\"\"\n",
    "    dummy_set = set(df.groupby('Facility Type').count().loc[:, 'License #'].sort_values(ascending=False).iloc[:21].index)\n",
    "    return ['Misc' if x not in dummy_set else x for x in col]\n",
    "\n",
    "def risk_helper(col):\n",
    "    \"\"\"\n",
    "    Helper for risk column.\n",
    "    Catch-all is 4\n",
    "    \"\"\"\n",
    "    bad_set = ['All', np.nan]\n",
    "    return [x.split(' ')[1] if x not in bad_set else 4 for x in col]\n",
    "\n",
    "\n",
    "def viols_helper(df):\n",
    "    \"\"\"\n",
    "    Helper for violations column.\n",
    "    Also creates a column for number of vioaltions\n",
    "    \"\"\"\n",
    "    # cleaned data. will be inputted into DF after cleaning\n",
    "    viol_list_of_lists = []\n",
    "\n",
    "    for i, viol in enumerate(df['Violations']):\n",
    "        # for each establishment\n",
    "        viols = []\n",
    "\n",
    "        # if nan, no complaints\n",
    "        if pd.isnull(viol):\n",
    "            viol_list_of_lists.append(viols)\n",
    "        else:\n",
    "            # split into separate complaints\n",
    "            viols = viol.split(' | ')\n",
    "            for j, complaint in enumerate(viols):\n",
    "                complaint = complaint.split(' - Comments: ')[0]\n",
    "                viols[j] = complaint\n",
    "            viol_list_of_lists.append(viols)\n",
    "            \n",
    "    violations_df = pd.Series([item for sublist in viol_list_of_lists for item in sublist])\n",
    "    no_viols = [len(x) for x in viol_list_of_lists]\n",
    "    \n",
    "    for lst in viol_list_of_lists:\n",
    "        for i, viol in enumerate(lst):\n",
    "            code = viol.split('. ')[0]\n",
    "            lst[i] = int(code)\n",
    "            \n",
    "    return (no_viols, viol_list_of_lists)\n",
    "    \n",
    "def clean_and_split(df, multiclass = False):\n",
    "    \"\"\"\n",
    "    Function to clean raw food inspection data and\n",
    "    split this into predictor and label parts\n",
    "    \"\"\"\n",
    "    df = df.drop(['DBA Name', 'AKA Name', 'Address', 'City', 'State', 'Location'], 1)\n",
    "    df = df.drop('Inspection Date', 1) # NB will most likely be included in the final model\n",
    "    \n",
    "    # clean inspection types\n",
    "    df['Inspection Type'] = inp_type_helper(df, df.loc[:, 'Inspection Type'])\n",
    "    \n",
    "    # clean facility types\n",
    "    df['Facility Type'] = fac_type_helper(df, df.loc[:, 'Facility Type'])\n",
    "    \n",
    "    # clean risk types\n",
    "    df['Risk'] = risk_helper(df['Risk'])\n",
    "    \n",
    "    # clean violations and add nnumber of violations\n",
    "    no_viols, viols = viols_helper(df)\n",
    "    df['# of Violations'] = no_viols\n",
    "    df['Violations'] = viols\n",
    "    \n",
    "    # split columns into dummies\n",
    "    viols_dummies_df = pd.get_dummies(pd.Series(df['Violations']).apply(pd.Series).stack()).sum(level=0)\n",
    "    zip_dummies_df = pd.get_dummies(df['Zip'])\n",
    "    inp_dummies_df = pd.get_dummies(df['Inspection Type'])\n",
    "    fac_dummies_df = pd.get_dummies(df['Facility Type'])\n",
    "    \n",
    "    # drop columns that are now dummies\n",
    "    df = df.drop(['Violations', 'Zip', 'Inspection Type', 'Facility Type'], 1)\n",
    "    \n",
    "    # add dummy columns\n",
    "    df = pd.concat([df, viols_dummies_df, zip_dummies_df, inp_dummies_df, fac_dummies_df], axis=1)\n",
    "    \n",
    "    # drop last column\n",
    "    df = df.drop('License #', 1)\n",
    "    \n",
    "    # drop nans, which will cause models to fail\n",
    "    df = df.dropna(axis=0)\n",
    "    \n",
    "    # split off results and predictors and clean into Pass/Fail (if not doing multiclass)\n",
    "    # (Note, we only consider 'Pass' as a true Pass, as 'Pass with Conditions' in some sense implies a failure in the current state.)\n",
    "    dirty_y = df.loc[:, 'Results']\n",
    "    if not multiclass:\n",
    "        y = results_helper(dirty_y)\n",
    "    else:\n",
    "        y = preprocessing.LabelEncoder().fit_transform(dirty_y)\n",
    "    \n",
    "    df = df.drop('Results', 1)\n",
    "    return (df, y)"
   ]
  },
  {
   "cell_type": "code",
   "execution_count": 120,
   "metadata": {
    "collapsed": false
   },
   "outputs": [
    {
     "data": {
      "text/plain": [
       "134192"
      ]
     },
     "execution_count": 120,
     "metadata": {},
     "output_type": "execute_result"
    }
   ],
   "source": [
    "FI.Results.shape[0]"
   ]
  },
  {
   "cell_type": "code",
   "execution_count": 126,
   "metadata": {
    "collapsed": false
   },
   "outputs": [],
   "source": [
    "fi, y = clean_and_split(FI, multiclass=False)"
   ]
  },
  {
   "cell_type": "markdown",
   "metadata": {},
   "source": [
    "### Model Creation"
   ]
  },
  {
   "cell_type": "markdown",
   "metadata": {},
   "source": [
    "This being a classification problem, let us see if we can tune a logistic regression model to this data."
   ]
  },
  {
   "cell_type": "code",
   "execution_count": 17,
   "metadata": {
    "collapsed": false
   },
   "outputs": [
    {
     "ename": "NameError",
     "evalue": "name 'fi' is not defined",
     "output_type": "error",
     "traceback": [
      "\u001b[0;31m---------------------------------------------------------------------------\u001b[0m",
      "\u001b[0;31mNameError\u001b[0m                                 Traceback (most recent call last)",
      "\u001b[0;32m<ipython-input-17-dada070bce53>\u001b[0m in \u001b[0;36m<module>\u001b[0;34m()\u001b[0m\n\u001b[1;32m      1\u001b[0m \u001b[0;31m# baseline\u001b[0m\u001b[0;34m\u001b[0m\u001b[0;34m\u001b[0m\u001b[0m\n\u001b[0;32m----> 2\u001b[0;31m \u001b[0mKFold_Score\u001b[0m\u001b[0;34m(\u001b[0m\u001b[0;36m5\u001b[0m\u001b[0;34m,\u001b[0m \u001b[0mfi\u001b[0m\u001b[0;34m.\u001b[0m\u001b[0mas_matrix\u001b[0m\u001b[0;34m(\u001b[0m\u001b[0;34m)\u001b[0m\u001b[0;34m,\u001b[0m \u001b[0mnp\u001b[0m\u001b[0;34m.\u001b[0m\u001b[0marray\u001b[0m\u001b[0;34m(\u001b[0m\u001b[0my\u001b[0m\u001b[0;34m)\u001b[0m\u001b[0;34m,\u001b[0m \u001b[0mlinear_model\u001b[0m\u001b[0;34m.\u001b[0m\u001b[0mLogisticRegression\u001b[0m\u001b[0;34m(\u001b[0m\u001b[0;34m)\u001b[0m\u001b[0;34m)\u001b[0m\u001b[0;34m\u001b[0m\u001b[0m\n\u001b[0m",
      "\u001b[0;31mNameError\u001b[0m: name 'fi' is not defined"
     ]
    }
   ],
   "source": [
    "# baseline\n",
    "KFold_Score(5, fi.as_matrix(), np.array(y), linear_model.LogisticRegression())"
   ]
  },
  {
   "cell_type": "markdown",
   "metadata": {},
   "source": [
    "As we can see Logistic Regression is not necessarily the best model to use."
   ]
  },
  {
   "cell_type": "code",
   "execution_count": 14,
   "metadata": {
    "collapsed": true
   },
   "outputs": [],
   "source": [
    "def plot_tuning_results(tuning_vals, tuning_res_1, two_plots, tuning_res_2, log_flag, lab1, lab2, title):\n",
    "    \"\"\"\n",
    "    Plot results for tuning parameters\n",
    "    \"\"\"\n",
    "    plt.plot(tuning_vals, tuning_res_1, label=lab1, c='b')\n",
    "    if two_plots:\n",
    "        plt.plot(tuning_vals, tuning_res_2, label=lab2, c='g')\n",
    "        \n",
    "    plt.title(title)\n",
    "    plt.xlabel('Tuning Values')\n",
    "    plt.ylabel('Scores')\n",
    "    \n",
    "    if log_flag:\n",
    "        plt.xscale('log')\n",
    "        \n",
    "    plt.ylim([0., 1.])\n",
    "    plt.legend();"
   ]
  },
  {
   "cell_type": "code",
   "execution_count": 16,
   "metadata": {
    "collapsed": false
   },
   "outputs": [
    {
     "data": {
      "text/plain": [
       "0.94850345759129517"
      ]
     },
     "execution_count": 16,
     "metadata": {},
     "output_type": "execute_result"
    }
   ],
   "source": [
    "KFold_Score(5, fi.as_matrix(), np.array(y), ensemble.RandomForestClassifier())"
   ]
  },
  {
   "cell_type": "markdown",
   "metadata": {},
   "source": [
    "Using the Random Forest Classifier, we achieve a slightly better score. This can be attributable to the fact that tree ensembles do not expect linear features, which may not be present in the inspection data."
   ]
  },
  {
   "cell_type": "markdown",
   "metadata": {},
   "source": [
    "### Additional features (weather)"
   ]
  },
  {
   "cell_type": "markdown",
   "metadata": {},
   "source": [
    "To improve the model further, we can aggregate external weather data to training data. We pulled data the daily max and daily minimum temperatures from weather stations in Chicago. After cleaning up the dataset, we appended the data to the entire inspection dataset."
   ]
  },
  {
   "cell_type": "code",
   "execution_count": 76,
   "metadata": {
    "collapsed": true
   },
   "outputs": [],
   "source": [
    "weather_df = pd.read_csv('datasets/weather.csv')"
   ]
  },
  {
   "cell_type": "code",
   "execution_count": 77,
   "metadata": {
    "collapsed": false
   },
   "outputs": [
    {
     "data": {
      "text/html": [
       "<div>\n",
       "<table border=\"1\" class=\"dataframe\">\n",
       "  <thead>\n",
       "    <tr style=\"text-align: right;\">\n",
       "      <th></th>\n",
       "      <th>STATION</th>\n",
       "      <th>ELEVATION</th>\n",
       "      <th>LATITUDE</th>\n",
       "      <th>LONGITUDE</th>\n",
       "      <th>DATE</th>\n",
       "      <th>TAVG</th>\n",
       "      <th>TMAX</th>\n",
       "      <th>TMIN</th>\n",
       "    </tr>\n",
       "  </thead>\n",
       "  <tbody>\n",
       "    <tr>\n",
       "      <th>0</th>\n",
       "      <td>GHCND:USC00111550</td>\n",
       "      <td>180.4</td>\n",
       "      <td>41.86611</td>\n",
       "      <td>-87.61528</td>\n",
       "      <td>20100101</td>\n",
       "      <td>-9999</td>\n",
       "      <td>21</td>\n",
       "      <td>10</td>\n",
       "    </tr>\n",
       "    <tr>\n",
       "      <th>1</th>\n",
       "      <td>GHCND:USC00111550</td>\n",
       "      <td>180.4</td>\n",
       "      <td>41.86611</td>\n",
       "      <td>-87.61528</td>\n",
       "      <td>20100102</td>\n",
       "      <td>-9999</td>\n",
       "      <td>16</td>\n",
       "      <td>7</td>\n",
       "    </tr>\n",
       "    <tr>\n",
       "      <th>2</th>\n",
       "      <td>GHCND:USC00111550</td>\n",
       "      <td>180.4</td>\n",
       "      <td>41.86611</td>\n",
       "      <td>-87.61528</td>\n",
       "      <td>20100103</td>\n",
       "      <td>-9999</td>\n",
       "      <td>24</td>\n",
       "      <td>6</td>\n",
       "    </tr>\n",
       "    <tr>\n",
       "      <th>3</th>\n",
       "      <td>GHCND:USC00111550</td>\n",
       "      <td>180.4</td>\n",
       "      <td>41.86611</td>\n",
       "      <td>-87.61528</td>\n",
       "      <td>20100104</td>\n",
       "      <td>-9999</td>\n",
       "      <td>21</td>\n",
       "      <td>13</td>\n",
       "    </tr>\n",
       "    <tr>\n",
       "      <th>4</th>\n",
       "      <td>GHCND:USC00111550</td>\n",
       "      <td>180.4</td>\n",
       "      <td>41.86611</td>\n",
       "      <td>-87.61528</td>\n",
       "      <td>20100105</td>\n",
       "      <td>-9999</td>\n",
       "      <td>27</td>\n",
       "      <td>19</td>\n",
       "    </tr>\n",
       "  </tbody>\n",
       "</table>\n",
       "</div>"
      ],
      "text/plain": [
       "             STATION  ELEVATION  LATITUDE  LONGITUDE      DATE  TAVG  TMAX  \\\n",
       "0  GHCND:USC00111550      180.4  41.86611  -87.61528  20100101 -9999    21   \n",
       "1  GHCND:USC00111550      180.4  41.86611  -87.61528  20100102 -9999    16   \n",
       "2  GHCND:USC00111550      180.4  41.86611  -87.61528  20100103 -9999    24   \n",
       "3  GHCND:USC00111550      180.4  41.86611  -87.61528  20100104 -9999    21   \n",
       "4  GHCND:USC00111550      180.4  41.86611  -87.61528  20100105 -9999    27   \n",
       "\n",
       "   TMIN  \n",
       "0    10  \n",
       "1     7  \n",
       "2     6  \n",
       "3    13  \n",
       "4    19  "
      ]
     },
     "execution_count": 77,
     "metadata": {},
     "output_type": "execute_result"
    }
   ],
   "source": [
    "weather_df.head()"
   ]
  },
  {
   "cell_type": "code",
   "execution_count": 78,
   "metadata": {
    "collapsed": false
   },
   "outputs": [],
   "source": [
    "weather_df['DATE'] = pd.to_datetime(weather_df['DATE'], format=\"%Y%m%d\")\n",
    "\n",
    "weather_df['Inspection Date'] = weather_df['DATE'].dt.strftime('%m/%d/%Y')"
   ]
  },
  {
   "cell_type": "code",
   "execution_count": 79,
   "metadata": {
    "collapsed": false
   },
   "outputs": [],
   "source": [
    "weather_df.drop(['STATION','LATITUDE','DATE','TAVG','ELEVATION','LONGITUDE'],inplace=True,axis=1)"
   ]
  },
  {
   "cell_type": "code",
   "execution_count": 80,
   "metadata": {
    "collapsed": false
   },
   "outputs": [
    {
     "data": {
      "text/html": [
       "<div>\n",
       "<table border=\"1\" class=\"dataframe\">\n",
       "  <thead>\n",
       "    <tr style=\"text-align: right;\">\n",
       "      <th></th>\n",
       "      <th>TMAX</th>\n",
       "      <th>TMIN</th>\n",
       "      <th>Inspection Date</th>\n",
       "    </tr>\n",
       "  </thead>\n",
       "  <tbody>\n",
       "    <tr>\n",
       "      <th>0</th>\n",
       "      <td>21</td>\n",
       "      <td>10</td>\n",
       "      <td>01/01/2010</td>\n",
       "    </tr>\n",
       "    <tr>\n",
       "      <th>1</th>\n",
       "      <td>16</td>\n",
       "      <td>7</td>\n",
       "      <td>01/02/2010</td>\n",
       "    </tr>\n",
       "    <tr>\n",
       "      <th>2</th>\n",
       "      <td>24</td>\n",
       "      <td>6</td>\n",
       "      <td>01/03/2010</td>\n",
       "    </tr>\n",
       "    <tr>\n",
       "      <th>3</th>\n",
       "      <td>21</td>\n",
       "      <td>13</td>\n",
       "      <td>01/04/2010</td>\n",
       "    </tr>\n",
       "    <tr>\n",
       "      <th>4</th>\n",
       "      <td>27</td>\n",
       "      <td>19</td>\n",
       "      <td>01/05/2010</td>\n",
       "    </tr>\n",
       "  </tbody>\n",
       "</table>\n",
       "</div>"
      ],
      "text/plain": [
       "   TMAX  TMIN Inspection Date\n",
       "0    21    10      01/01/2010\n",
       "1    16     7      01/02/2010\n",
       "2    24     6      01/03/2010\n",
       "3    21    13      01/04/2010\n",
       "4    27    19      01/05/2010"
      ]
     },
     "execution_count": 80,
     "metadata": {},
     "output_type": "execute_result"
    }
   ],
   "source": [
    "weather_df.head()"
   ]
  },
  {
   "cell_type": "code",
   "execution_count": 149,
   "metadata": {
    "collapsed": false
   },
   "outputs": [
    {
     "data": {
      "text/html": [
       "<div>\n",
       "<table border=\"1\" class=\"dataframe\">\n",
       "  <thead>\n",
       "    <tr style=\"text-align: right;\">\n",
       "      <th></th>\n",
       "      <th>DBA Name</th>\n",
       "      <th>AKA Name</th>\n",
       "      <th>License #</th>\n",
       "      <th>Facility Type</th>\n",
       "      <th>Risk</th>\n",
       "      <th>Address</th>\n",
       "      <th>City</th>\n",
       "      <th>State</th>\n",
       "      <th>Zip</th>\n",
       "      <th>Inspection Type</th>\n",
       "      <th>Results</th>\n",
       "      <th>Violations</th>\n",
       "      <th>Latitude</th>\n",
       "      <th>Longitude</th>\n",
       "      <th>Location</th>\n",
       "      <th>TMAX</th>\n",
       "      <th>TMIN</th>\n",
       "    </tr>\n",
       "    <tr>\n",
       "      <th>Inspection Date</th>\n",
       "      <th></th>\n",
       "      <th></th>\n",
       "      <th></th>\n",
       "      <th></th>\n",
       "      <th></th>\n",
       "      <th></th>\n",
       "      <th></th>\n",
       "      <th></th>\n",
       "      <th></th>\n",
       "      <th></th>\n",
       "      <th></th>\n",
       "      <th></th>\n",
       "      <th></th>\n",
       "      <th></th>\n",
       "      <th></th>\n",
       "      <th></th>\n",
       "      <th></th>\n",
       "    </tr>\n",
       "  </thead>\n",
       "  <tbody>\n",
       "    <tr>\n",
       "      <th>01/02/2013</th>\n",
       "      <td>NICK'S GYROS</td>\n",
       "      <td>NICK'S GYROS</td>\n",
       "      <td>1403378.0</td>\n",
       "      <td>Restaurant</td>\n",
       "      <td>Risk 1 (High)</td>\n",
       "      <td>2011 W 63RD ST</td>\n",
       "      <td>CHICAGO</td>\n",
       "      <td>IL</td>\n",
       "      <td>60636.0</td>\n",
       "      <td>Complaint</td>\n",
       "      <td>Pass</td>\n",
       "      <td>36. LIGHTING: REQUIRED MINIMUM FOOT-CANDLES OF...</td>\n",
       "      <td>41.779199</td>\n",
       "      <td>-87.674418</td>\n",
       "      <td>(41.77919934204008, -87.67441843115479)</td>\n",
       "      <td>29</td>\n",
       "      <td>14</td>\n",
       "    </tr>\n",
       "    <tr>\n",
       "      <th>01/02/2013</th>\n",
       "      <td>NICK'S GYROS</td>\n",
       "      <td>NICK'S GYROS</td>\n",
       "      <td>1403378.0</td>\n",
       "      <td>Restaurant</td>\n",
       "      <td>Risk 1 (High)</td>\n",
       "      <td>2011 W 63RD ST</td>\n",
       "      <td>CHICAGO</td>\n",
       "      <td>IL</td>\n",
       "      <td>60636.0</td>\n",
       "      <td>Complaint</td>\n",
       "      <td>Pass</td>\n",
       "      <td>36. LIGHTING: REQUIRED MINIMUM FOOT-CANDLES OF...</td>\n",
       "      <td>41.779199</td>\n",
       "      <td>-87.674418</td>\n",
       "      <td>(41.77919934204008, -87.67441843115479)</td>\n",
       "      <td>30</td>\n",
       "      <td>11</td>\n",
       "    </tr>\n",
       "    <tr>\n",
       "      <th>01/02/2013</th>\n",
       "      <td>NICK'S GYROS</td>\n",
       "      <td>NICK'S GYROS</td>\n",
       "      <td>1403378.0</td>\n",
       "      <td>Restaurant</td>\n",
       "      <td>Risk 1 (High)</td>\n",
       "      <td>2011 W 63RD ST</td>\n",
       "      <td>CHICAGO</td>\n",
       "      <td>IL</td>\n",
       "      <td>60636.0</td>\n",
       "      <td>Complaint</td>\n",
       "      <td>Pass</td>\n",
       "      <td>36. LIGHTING: REQUIRED MINIMUM FOOT-CANDLES OF...</td>\n",
       "      <td>41.779199</td>\n",
       "      <td>-87.674418</td>\n",
       "      <td>(41.77919934204008, -87.67441843115479)</td>\n",
       "      <td>30</td>\n",
       "      <td>10</td>\n",
       "    </tr>\n",
       "    <tr>\n",
       "      <th>01/02/2013</th>\n",
       "      <td>NICK'S GYROS</td>\n",
       "      <td>NICK'S GYROS</td>\n",
       "      <td>1403378.0</td>\n",
       "      <td>Restaurant</td>\n",
       "      <td>Risk 1 (High)</td>\n",
       "      <td>2011 W 63RD ST</td>\n",
       "      <td>CHICAGO</td>\n",
       "      <td>IL</td>\n",
       "      <td>60636.0</td>\n",
       "      <td>Complaint</td>\n",
       "      <td>Pass</td>\n",
       "      <td>36. LIGHTING: REQUIRED MINIMUM FOOT-CANDLES OF...</td>\n",
       "      <td>41.779199</td>\n",
       "      <td>-87.674418</td>\n",
       "      <td>(41.77919934204008, -87.67441843115479)</td>\n",
       "      <td>30</td>\n",
       "      <td>10</td>\n",
       "    </tr>\n",
       "    <tr>\n",
       "      <th>01/02/2013</th>\n",
       "      <td>NICK'S GYROS</td>\n",
       "      <td>NICK'S GYROS</td>\n",
       "      <td>1403378.0</td>\n",
       "      <td>Restaurant</td>\n",
       "      <td>Risk 1 (High)</td>\n",
       "      <td>2011 W 63RD ST</td>\n",
       "      <td>CHICAGO</td>\n",
       "      <td>IL</td>\n",
       "      <td>60636.0</td>\n",
       "      <td>Complaint</td>\n",
       "      <td>Pass</td>\n",
       "      <td>36. LIGHTING: REQUIRED MINIMUM FOOT-CANDLES OF...</td>\n",
       "      <td>41.779199</td>\n",
       "      <td>-87.674418</td>\n",
       "      <td>(41.77919934204008, -87.67441843115479)</td>\n",
       "      <td>26</td>\n",
       "      <td>9</td>\n",
       "    </tr>\n",
       "  </tbody>\n",
       "</table>\n",
       "</div>"
      ],
      "text/plain": [
       "                     DBA Name      AKA Name  License # Facility Type  \\\n",
       "Inspection Date                                                        \n",
       "01/02/2013       NICK'S GYROS  NICK'S GYROS  1403378.0    Restaurant   \n",
       "01/02/2013       NICK'S GYROS  NICK'S GYROS  1403378.0    Restaurant   \n",
       "01/02/2013       NICK'S GYROS  NICK'S GYROS  1403378.0    Restaurant   \n",
       "01/02/2013       NICK'S GYROS  NICK'S GYROS  1403378.0    Restaurant   \n",
       "01/02/2013       NICK'S GYROS  NICK'S GYROS  1403378.0    Restaurant   \n",
       "\n",
       "                          Risk          Address     City State      Zip  \\\n",
       "Inspection Date                                                           \n",
       "01/02/2013       Risk 1 (High)  2011 W 63RD ST   CHICAGO    IL  60636.0   \n",
       "01/02/2013       Risk 1 (High)  2011 W 63RD ST   CHICAGO    IL  60636.0   \n",
       "01/02/2013       Risk 1 (High)  2011 W 63RD ST   CHICAGO    IL  60636.0   \n",
       "01/02/2013       Risk 1 (High)  2011 W 63RD ST   CHICAGO    IL  60636.0   \n",
       "01/02/2013       Risk 1 (High)  2011 W 63RD ST   CHICAGO    IL  60636.0   \n",
       "\n",
       "                Inspection Type Results  \\\n",
       "Inspection Date                           \n",
       "01/02/2013            Complaint    Pass   \n",
       "01/02/2013            Complaint    Pass   \n",
       "01/02/2013            Complaint    Pass   \n",
       "01/02/2013            Complaint    Pass   \n",
       "01/02/2013            Complaint    Pass   \n",
       "\n",
       "                                                        Violations   Latitude  \\\n",
       "Inspection Date                                                                 \n",
       "01/02/2013       36. LIGHTING: REQUIRED MINIMUM FOOT-CANDLES OF...  41.779199   \n",
       "01/02/2013       36. LIGHTING: REQUIRED MINIMUM FOOT-CANDLES OF...  41.779199   \n",
       "01/02/2013       36. LIGHTING: REQUIRED MINIMUM FOOT-CANDLES OF...  41.779199   \n",
       "01/02/2013       36. LIGHTING: REQUIRED MINIMUM FOOT-CANDLES OF...  41.779199   \n",
       "01/02/2013       36. LIGHTING: REQUIRED MINIMUM FOOT-CANDLES OF...  41.779199   \n",
       "\n",
       "                 Longitude                                 Location  TMAX  \\\n",
       "Inspection Date                                                             \n",
       "01/02/2013      -87.674418  (41.77919934204008, -87.67441843115479)    29   \n",
       "01/02/2013      -87.674418  (41.77919934204008, -87.67441843115479)    30   \n",
       "01/02/2013      -87.674418  (41.77919934204008, -87.67441843115479)    30   \n",
       "01/02/2013      -87.674418  (41.77919934204008, -87.67441843115479)    30   \n",
       "01/02/2013      -87.674418  (41.77919934204008, -87.67441843115479)    26   \n",
       "\n",
       "                 TMIN  \n",
       "Inspection Date        \n",
       "01/02/2013         14  \n",
       "01/02/2013         11  \n",
       "01/02/2013         10  \n",
       "01/02/2013         10  \n",
       "01/02/2013          9  "
      ]
     },
     "execution_count": 149,
     "metadata": {},
     "output_type": "execute_result"
    }
   ],
   "source": [
    "FI.set_index('Inspection Date').join(weather_df.set_index('Inspection Date')).head(n=5)"
   ]
  },
  {
   "cell_type": "code",
   "execution_count": 82,
   "metadata": {
    "collapsed": true
   },
   "outputs": [],
   "source": [
    "fi, y = clean_and_split(FI)"
   ]
  },
  {
   "cell_type": "code",
   "execution_count": 73,
   "metadata": {
    "collapsed": false
   },
   "outputs": [
    {
     "data": {
      "text/plain": [
       "0.94930075131680636"
      ]
     },
     "execution_count": 73,
     "metadata": {},
     "output_type": "execute_result"
    }
   ],
   "source": [
    "KFold_Score(5, fi.as_matrix(), np.array(y), ensemble.RandomForestClassifier())"
   ]
  },
  {
   "cell_type": "markdown",
   "metadata": {},
   "source": [
    "With the additional weather data, the accuracy score of our Random Forest model increases slightly. It should be noted that our weather data only takes the temperature from one weather station; to be even more accurate we can take the average of multiple weather station or perhaps indentify the one closest to the actual restaurant (using the latitude and longitude data)."
   ]
  },
  {
   "cell_type": "code",
   "execution_count": 134,
   "metadata": {
    "collapsed": true
   },
   "outputs": [],
   "source": [
    "from sklearn.model_selection import GridSearchCV, cross_val_score\n",
    "from sklearn.cross_validation import KFold\n",
    "from sklearn.metrics import classification_report\n",
    "from sklearn.model_selection import train_test_split\n",
    "from sklearn.ensemble import RandomForestRegressor\n",
    "from sklearn.metrics import roc_auc_score"
   ]
  },
  {
   "cell_type": "markdown",
   "metadata": {},
   "source": [
    "## Tuning our models "
   ]
  },
  {
   "cell_type": "markdown",
   "metadata": {},
   "source": [
    "Now let's use grid search to optimize the hyper-parameters of our logistic regression model using cross-validation. "
   ]
  },
  {
   "cell_type": "code",
   "execution_count": 37,
   "metadata": {
    "collapsed": false
   },
   "outputs": [
    {
     "name": "stdout",
     "output_type": "stream",
     "text": [
      "('gs.best_score_:', 0.95635889695346177)\n"
     ]
    }
   ],
   "source": [
    "# param_grid = np.logspace(-6, -1, 10)\n",
    "# clf = GridSearchCV(linear_model.LogisticRegression(penalty='l2'), param_grid)\n",
    "grid = {\n",
    "        'C': \n",
    "         , 'solver': ['newton-cg']\n",
    "    }\n",
    "fold = KFold(len(y), n_folds=5, shuffle=True, random_state=777)\n",
    "np.power(10.0, np.arange(-10, 10)\n",
    "clf = linear_model.LogisticRegression(penalty='l2', random_state=777, max_iter=10000, tol=10)\n",
    "gs = GridSearchCV(clf, grid, scoring='roc_auc', cv=fold)\n",
    "gs.fit(fi.as_matrix(), np.array(y))\n",
    "\n",
    "print ('gs.best_score_:', gs.best_score_)\n",
    "# gs.predict"
   ]
  },
  {
   "cell_type": "code",
   "execution_count": 52,
   "metadata": {
    "collapsed": false
   },
   "outputs": [
    {
     "name": "stdout",
     "output_type": "stream",
     "text": [
      "             precision    recall  f1-score   support\n",
      "\n",
      "          0       0.94      0.89      0.92     10689\n",
      "          1       0.95      0.97      0.96     21294\n",
      "\n",
      "avg / total       0.94      0.94      0.94     31983\n",
      "\n"
     ]
    }
   ],
   "source": [
    "X_train, X_test, y_train, y_test = train_test_split(fi.as_matrix(), np.array(y), test_size=0.3, random_state=0)\n",
    "y_preds = gs.predict(X_test)\n",
    "print(classification_report(y_test, y_preds))"
   ]
  },
  {
   "cell_type": "markdown",
   "metadata": {},
   "source": [
    "### Random Forests"
   ]
  },
  {
   "cell_type": "code",
   "execution_count": 137,
   "metadata": {
    "collapsed": true
   },
   "outputs": [],
   "source": [
    "from sklearn.ensemble import RandomForestRegressor\n",
    "from sklearn.metrics import roc_auc_score"
   ]
  },
  {
   "cell_type": "code",
   "execution_count": 141,
   "metadata": {
    "collapsed": false,
    "scrolled": true
   },
   "outputs": [
    {
     "data": {
      "text/plain": [
       "RandomForestRegressor(bootstrap=True, criterion='mse', max_depth=None,\n",
       "           max_features='auto', max_leaf_nodes=None,\n",
       "           min_impurity_split=1e-07, min_samples_leaf=1,\n",
       "           min_samples_split=2, min_weight_fraction_leaf=0.0,\n",
       "           n_estimators=100, n_jobs=1, oob_score=True, random_state=42,\n",
       "           verbose=0, warm_start=False)"
      ]
     },
     "execution_count": 141,
     "metadata": {},
     "output_type": "execute_result"
    }
   ],
   "source": [
    "model = RandomForestRegressor(n_estimators = 100 , oob_score = True, random_state = 42)\n",
    "model.fit(X_train, np.array(y_train))"
   ]
  },
  {
   "cell_type": "code",
   "execution_count": 147,
   "metadata": {
    "collapsed": false
   },
   "outputs": [],
   "source": [
    "sample_leaf_options = [1,5,10,50,100,200,500]\n",
    "\n",
    "for leaf_size in sample_leaf_options:\n",
    "    model = RandomForestRegressor(n_estimators = 200, oob_score = True, n_jobs = -1, random_state =50, max_features = \"auto\", min_samples_leaf = leaf_size)\n",
    "    model.fit(X_train, np.array(y_train))\n",
    "    print \"AUC - ROC : \" + roc_auc_score(y,model.oob_prediction)"
   ]
  },
  {
   "cell_type": "markdown",
   "metadata": {},
   "source": [
    "## Deciding on a *performance metric*\n",
    "\n",
    "- For this project, we have in essence been hired by the city of Chicago to examine whether we can reduce the spread of foodborne illness by locating restaurants with a high probability of violating the health codes for their early inspection. Our goal is to avoid exposing these restaurants' patrons to unnecessary risk, by optimizing the use of the city's limited number of inspections. \n",
    "\n",
    "- Given that our goal is to reduce the spread of foodborne illnesses, and therefore to correctly identify violators as swiftly as possible, our performance metric should be much more weighted towards reducing the false negative rate, and therefore maximizing the *sensitivity* (or true positive) percentage. In this case, where Chicagoans are better off safe than sorry, maximizing *sensitivity* is more important than minimizing *specificity*, or the false positive rate. While it's not ideal to misclassify a clean restaurant as violating a health code, especially given the heatlh department's limited resources, accidentally shutting down a well-run restaurant is not the end of the world given the plethora of dining options in the city, whereas not identifying a potential outbreak could result in unnecessary deaths, as well as undue strain on the health care system and mistrust in the local food industry. Thus, **for now we will focus on maximizing the sensitivity of our models when evaluating our predictions.** "
   ]
  },
  {
   "cell_type": "code",
   "execution_count": 69,
   "metadata": {
    "collapsed": false
   },
   "outputs": [
    {
     "name": "stderr",
     "output_type": "stream",
     "text": [
      "/Users/evanbrown/anaconda/lib/python2.7/site-packages/ipykernel/__main__.py:3: UserWarning: Boolean Series key will be reindexed to match DataFrame index.\n",
      "  app.launch_new_instance()\n",
      "/Users/evanbrown/anaconda/lib/python2.7/site-packages/ipykernel/__main__.py:4: UserWarning: Boolean Series key will be reindexed to match DataFrame index.\n",
      "/Users/evanbrown/anaconda/lib/python2.7/site-packages/ipykernel/__main__.py:5: UserWarning: Boolean Series key will be reindexed to match DataFrame index.\n",
      "/Users/evanbrown/anaconda/lib/python2.7/site-packages/ipykernel/__main__.py:6: UserWarning: Boolean Series key will be reindexed to match DataFrame index.\n"
     ]
    }
   ],
   "source": [
    "score_df = pd.concat([pd.Series(y_preds, name='Predictions'), pd.Series(y_test, name='True Vals')], axis=1)\n",
    "\n",
    "true_positives = score_df[score_df['Predictions'] == 1][score_df['True Vals'] == 1]\n",
    "true_negatives = score_df[score_df['Predictions'] == 0][score_df['True Vals'] == 0]\n",
    "false_positives = score_df[score_df['Predictions'] == 1][score_df['True Vals'] == 0]\n",
    "false_negatives = score_df[score_df['Predictions'] == 0][score_df['True Vals'] == 1]"
   ]
  },
  {
   "cell_type": "code",
   "execution_count": 72,
   "metadata": {
    "collapsed": false
   },
   "outputs": [
    {
     "name": "stdout",
     "output_type": "stream",
     "text": [
      "Our Tuned Model's Sensitivity is 0.946915614131\n",
      "The False Negative Rate is 0.0282708744247\n"
     ]
    }
   ],
   "source": [
    "print \"Our Tuned Model's Sensitivity is \" + str(true_positives.shape[0] / float(true_positives.shape[0] + false_positives.shape[0]))\n",
    "print \"The False Negative Rate is \" + str(false_negatives.shape[0] / float(false_negatives.shape[0] + true_positives.shape[0]))"
   ]
  },
  {
   "cell_type": "markdown",
   "metadata": {},
   "source": [
    "This is a pretty low false negative rate, which is rather reassuring."
   ]
  },
  {
   "cell_type": "markdown",
   "metadata": {},
   "source": [
    "## Multinomial Logistic Regression"
   ]
  },
  {
   "cell_type": "code",
   "execution_count": 8,
   "metadata": {
    "collapsed": false
   },
   "outputs": [
    {
     "data": {
      "text/plain": [
       "array(['Pass', 'No Entry', 'Pass w/ Conditions', 'Fail', 'Out of Business',\n",
       "       'Not Ready', 'Business Not Located'], dtype=object)"
      ]
     },
     "execution_count": 8,
     "metadata": {},
     "output_type": "execute_result"
    }
   ],
   "source": [
    "FI.Results.unique()"
   ]
  },
  {
   "cell_type": "code",
   "execution_count": 127,
   "metadata": {
    "collapsed": true
   },
   "outputs": [],
   "source": [
    "fi, multi_y = clean_and_split(FI, multiclass=True)"
   ]
  },
  {
   "cell_type": "code",
   "execution_count": 133,
   "metadata": {
    "collapsed": false
   },
   "outputs": [
    {
     "data": {
      "text/plain": [
       "LogisticRegression(C=1.0, class_weight=None, dual=False, fit_intercept=True,\n",
       "          intercept_scaling=1, max_iter=10000, multi_class='multinomial',\n",
       "          n_jobs=1, penalty='l2', random_state=777, solver='newton-cg',\n",
       "          tol=10, verbose=0, warm_start=False)"
      ]
     },
     "execution_count": 133,
     "metadata": {},
     "output_type": "execute_result"
    }
   ],
   "source": [
    "multilogreg = linear_model.LogisticRegression(penalty='l2', random_state=777, max_iter=10000, tol=10, solver='newton-cg', multi_class='multinomial')\n",
    "\n",
    "multilogreg.fit(fi.as_matrix(), multi_y)"
   ]
  },
  {
   "cell_type": "code",
   "execution_count": null,
   "metadata": {
    "collapsed": true
   },
   "outputs": [],
   "source": []
  }
 ],
 "metadata": {
  "anaconda-cloud": {},
  "kernelspec": {
   "display_name": "Python 2",
   "language": "python",
   "name": "python2"
  },
  "language_info": {
   "codemirror_mode": {
    "name": "ipython",
    "version": 2
   },
   "file_extension": ".py",
   "mimetype": "text/x-python",
   "name": "python",
   "nbconvert_exporter": "python",
   "pygments_lexer": "ipython2",
   "version": "2.7.12"
  }
 },
 "nbformat": 4,
 "nbformat_minor": 1
}
