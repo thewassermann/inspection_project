{
 "cells": [
  {
   "cell_type": "markdown",
   "metadata": {},
   "source": [
    "# Exploratory Data Notebook - Gil"
   ]
  },
  {
   "cell_type": "code",
   "execution_count": 2,
   "metadata": {
    "collapsed": true
   },
   "outputs": [],
   "source": [
    "import pandas as pd\n",
    "import numpy as np\n",
    "import matplotlib.pyplot as plt\n",
    "%matplotlib inline"
   ]
  },
  {
   "cell_type": "code",
   "execution_count": 3,
   "metadata": {
    "collapsed": true
   },
   "outputs": [],
   "source": [
    "# food inspection database\n",
    "data_FI = pd.read_csv('datasets/Food_Inspections.csv')"
   ]
  },
  {
   "cell_type": "code",
   "execution_count": 4,
   "metadata": {
    "collapsed": false
   },
   "outputs": [
    {
     "data": {
      "text/html": [
       "<div>\n",
       "<table border=\"1\" class=\"dataframe\">\n",
       "  <thead>\n",
       "    <tr style=\"text-align: right;\">\n",
       "      <th></th>\n",
       "      <th>Inspection ID</th>\n",
       "      <th>DBA Name</th>\n",
       "      <th>AKA Name</th>\n",
       "      <th>License #</th>\n",
       "      <th>Facility Type</th>\n",
       "      <th>Risk</th>\n",
       "      <th>Address</th>\n",
       "      <th>City</th>\n",
       "      <th>State</th>\n",
       "      <th>Zip</th>\n",
       "      <th>Inspection Date</th>\n",
       "      <th>Inspection Type</th>\n",
       "      <th>Results</th>\n",
       "      <th>Violations</th>\n",
       "      <th>Latitude</th>\n",
       "      <th>Longitude</th>\n",
       "      <th>Location</th>\n",
       "    </tr>\n",
       "  </thead>\n",
       "  <tbody>\n",
       "    <tr>\n",
       "      <th>0</th>\n",
       "      <td>1967170</td>\n",
       "      <td>GOOSE ISLAND BAR - T1, B4</td>\n",
       "      <td>GOOSE ISLAND (T1-B4)</td>\n",
       "      <td>2477070.0</td>\n",
       "      <td>Restaurant</td>\n",
       "      <td>Risk 2 (Medium)</td>\n",
       "      <td>11601 W TOUHY AVE</td>\n",
       "      <td>CHICAGO</td>\n",
       "      <td>IL</td>\n",
       "      <td>60666.0</td>\n",
       "      <td>10/25/2016</td>\n",
       "      <td>License</td>\n",
       "      <td>Pass</td>\n",
       "      <td>NaN</td>\n",
       "      <td>42.008536</td>\n",
       "      <td>-87.914428</td>\n",
       "      <td>(42.008536400868735, -87.91442843927047)</td>\n",
       "    </tr>\n",
       "    <tr>\n",
       "      <th>1</th>\n",
       "      <td>1967164</td>\n",
       "      <td>ERMEL'S</td>\n",
       "      <td>ERMEL'S</td>\n",
       "      <td>2484238.0</td>\n",
       "      <td>Restaurant</td>\n",
       "      <td>Risk 1 (High)</td>\n",
       "      <td>5729 N NORTHWEST HWY</td>\n",
       "      <td>CHICAGO</td>\n",
       "      <td>IL</td>\n",
       "      <td>60646.0</td>\n",
       "      <td>10/25/2016</td>\n",
       "      <td>License</td>\n",
       "      <td>Pass</td>\n",
       "      <td>32. FOOD AND NON-FOOD CONTACT SURFACES PROPERL...</td>\n",
       "      <td>41.986001</td>\n",
       "      <td>-87.787528</td>\n",
       "      <td>(41.98600113711187, -87.78752792018707)</td>\n",
       "    </tr>\n",
       "    <tr>\n",
       "      <th>2</th>\n",
       "      <td>1967146</td>\n",
       "      <td>WENDY'S PROPERTIES, LLC</td>\n",
       "      <td>WENDY'S</td>\n",
       "      <td>2469194.0</td>\n",
       "      <td>Restaurant</td>\n",
       "      <td>Risk 1 (High)</td>\n",
       "      <td>6324 N WESTERN AVE</td>\n",
       "      <td>CHICAGO</td>\n",
       "      <td>IL</td>\n",
       "      <td>60659.0</td>\n",
       "      <td>10/25/2016</td>\n",
       "      <td>License</td>\n",
       "      <td>Pass</td>\n",
       "      <td>NaN</td>\n",
       "      <td>41.996677</td>\n",
       "      <td>-87.689996</td>\n",
       "      <td>(41.99667685737697, -87.68999575516291)</td>\n",
       "    </tr>\n",
       "    <tr>\n",
       "      <th>3</th>\n",
       "      <td>1967133</td>\n",
       "      <td>LEARN TOGETHER GROW TOGETHER CHILD DEVELOPMENT...</td>\n",
       "      <td>LEARN TOGETHER GROW TOGETHER CHILD DEVELOPMENT C</td>\n",
       "      <td>2384887.0</td>\n",
       "      <td>Daycare Above and Under 2 Years</td>\n",
       "      <td>Risk 1 (High)</td>\n",
       "      <td>1126 W 99TH ST</td>\n",
       "      <td>CHICAGO</td>\n",
       "      <td>IL</td>\n",
       "      <td>60643.0</td>\n",
       "      <td>10/25/2016</td>\n",
       "      <td>License</td>\n",
       "      <td>Pass</td>\n",
       "      <td>32. FOOD AND NON-FOOD CONTACT SURFACES PROPERL...</td>\n",
       "      <td>41.714241</td>\n",
       "      <td>-87.651464</td>\n",
       "      <td>(41.714240500986136, -87.6514643961654)</td>\n",
       "    </tr>\n",
       "    <tr>\n",
       "      <th>4</th>\n",
       "      <td>1967115</td>\n",
       "      <td>Porkchop</td>\n",
       "      <td>Porkchop</td>\n",
       "      <td>2373923.0</td>\n",
       "      <td>Restaurant</td>\n",
       "      <td>Risk 1 (High)</td>\n",
       "      <td>29 E ADAMS ST</td>\n",
       "      <td>CHICAGO</td>\n",
       "      <td>IL</td>\n",
       "      <td>60603.0</td>\n",
       "      <td>10/24/2016</td>\n",
       "      <td>Short Form Complaint</td>\n",
       "      <td>Pass</td>\n",
       "      <td>NaN</td>\n",
       "      <td>41.879397</td>\n",
       "      <td>-87.626631</td>\n",
       "      <td>(41.87939700209408, -87.62663087278814)</td>\n",
       "    </tr>\n",
       "  </tbody>\n",
       "</table>\n",
       "</div>"
      ],
      "text/plain": [
       "   Inspection ID                                           DBA Name  \\\n",
       "0        1967170                          GOOSE ISLAND BAR - T1, B4   \n",
       "1        1967164                                            ERMEL'S   \n",
       "2        1967146                            WENDY'S PROPERTIES, LLC   \n",
       "3        1967133  LEARN TOGETHER GROW TOGETHER CHILD DEVELOPMENT...   \n",
       "4        1967115                                           Porkchop   \n",
       "\n",
       "                                           AKA Name  License #  \\\n",
       "0                              GOOSE ISLAND (T1-B4)  2477070.0   \n",
       "1                                           ERMEL'S  2484238.0   \n",
       "2                                           WENDY'S  2469194.0   \n",
       "3  LEARN TOGETHER GROW TOGETHER CHILD DEVELOPMENT C  2384887.0   \n",
       "4                                          Porkchop  2373923.0   \n",
       "\n",
       "                     Facility Type             Risk                Address  \\\n",
       "0                       Restaurant  Risk 2 (Medium)     11601 W TOUHY AVE    \n",
       "1                       Restaurant    Risk 1 (High)  5729 N NORTHWEST HWY    \n",
       "2                       Restaurant    Risk 1 (High)    6324 N WESTERN AVE    \n",
       "3  Daycare Above and Under 2 Years    Risk 1 (High)        1126 W 99TH ST    \n",
       "4                       Restaurant    Risk 1 (High)         29 E ADAMS ST    \n",
       "\n",
       "      City State      Zip Inspection Date       Inspection Type Results  \\\n",
       "0  CHICAGO    IL  60666.0      10/25/2016               License    Pass   \n",
       "1  CHICAGO    IL  60646.0      10/25/2016               License    Pass   \n",
       "2  CHICAGO    IL  60659.0      10/25/2016               License    Pass   \n",
       "3  CHICAGO    IL  60643.0      10/25/2016               License    Pass   \n",
       "4  CHICAGO    IL  60603.0      10/24/2016  Short Form Complaint    Pass   \n",
       "\n",
       "                                          Violations   Latitude  Longitude  \\\n",
       "0                                                NaN  42.008536 -87.914428   \n",
       "1  32. FOOD AND NON-FOOD CONTACT SURFACES PROPERL...  41.986001 -87.787528   \n",
       "2                                                NaN  41.996677 -87.689996   \n",
       "3  32. FOOD AND NON-FOOD CONTACT SURFACES PROPERL...  41.714241 -87.651464   \n",
       "4                                                NaN  41.879397 -87.626631   \n",
       "\n",
       "                                   Location  \n",
       "0  (42.008536400868735, -87.91442843927047)  \n",
       "1   (41.98600113711187, -87.78752792018707)  \n",
       "2   (41.99667685737697, -87.68999575516291)  \n",
       "3   (41.714240500986136, -87.6514643961654)  \n",
       "4   (41.87939700209408, -87.62663087278814)  "
      ]
     },
     "execution_count": 4,
     "metadata": {},
     "output_type": "execute_result"
    }
   ],
   "source": [
    "data_FI.head()"
   ]
  },
  {
   "cell_type": "markdown",
   "metadata": {},
   "source": [
    "### Number of Different Complaints"
   ]
  },
  {
   "cell_type": "code",
   "execution_count": 5,
   "metadata": {
    "collapsed": false
   },
   "outputs": [
    {
     "data": {
      "text/plain": [
       "array([nan,\n",
       "       '32. FOOD AND NON-FOOD CONTACT SURFACES PROPERLY DESIGNED, CONSTRUCTED AND MAINTAINED - Comments: MUST NOT USE TINFOIL AS LINER FOR SHELVING THROUGHOUT. MUST NOT USE CARDBOARD BOXES AS CONTAINERS FOR FOOD ITEMS. MUST BE SMOOTH AND CLEANABLE. \\nMUST NOT USE RAW WOOD AS LIFTS FOR EQUIPMENT. | 38. VENTILATION: ROOMS AND EQUIPMENT VENTED AS REQUIRED: PLUMBING: INSTALLED AND MAINTAINED - Comments: MUST INSTALL A SPLASH GUARD BETWEEN THE REAR EXPOSED HAND SINK AND THE THREE COMPARTMENT SINK. | 43. FOOD (ICE) DISPENSING UTENSILS, WASH CLOTHS PROPERLY STORED - Comments: ALL COOKS LINE WIPING CLOTHS MUST BE STORED IN A CLEAN CONTAINER WITH A SANITIZING SOLUTION. | 33. FOOD AND NON-FOOD CONTACT EQUIPMENT UTENSILS CLEAN, FREE OF ABRASIVE DETERGENTS - Comments: DIRTY WALL MOUNTED FRY SLICER MUST BE CLEANED AFTER EACH USE. | 35. WALLS, CEILINGS, ATTACHED EQUIPMENT CONSTRUCTED PER CODE: GOOD REPAIR, SURFACES CLEAN AND DUST-LESS CLEANING METHODS - Comments: WATER DAMAGED CEILING TILE ABOVE THE REAR BAG IN BOX SODA DISPENSING SYSTEM. MUST REPLACED. | 41. PREMISES MAINTAINED FREE OF LITTER, UNNECESSARY ARTICLES, CLEANING  EQUIPMENT PROPERLY STORED - Comments: ALL UNUSED COOKING EQUIPMENT AND COOLERS MUST BE REMOVED FROM PREMISES OR STORED CLEAN.',\n",
       "       '32. FOOD AND NON-FOOD CONTACT SURFACES PROPERLY DESIGNED, CONSTRUCTED AND MAINTAINED - Comments: DEFROST INTERIOR OF SMALL REFRIGERATOR IN INFANT ROOM. | 33. FOOD AND NON-FOOD CONTACT EQUIPMENT UTENSILS CLEAN, FREE OF ABRASIVE DETERGENTS - Comments: CLEAN INTERIOR OF SMALL REFRIGERATOR IN CLASSROOM NEAR INFANT ROOM. | 34. FLOORS: CONSTRUCTED PER CODE, CLEANED, GOOD REPAIR, COVING INSTALLED, DUST-LESS CLEANING METHODS USED - Comments: CLEAN FLOORS ALONG WALLS AND CORNERS IN ALL STORAGE AREAS.',\n",
       "       ...,\n",
       "       '32. FOOD AND NON-FOOD CONTACT SURFACES PROPERLY DESIGNED, CONSTRUCTED AND MAINTAINED - Comments:  | 33. FOOD AND NON-FOOD CONTACT EQUIPMENT UTENSILS CLEAN, FREE OF ABRASIVE DETERGENTS - Comments:  | 35. WALLS, CEILINGS, ATTACHED EQUIPMENT CONSTRUCTED PER CODE: GOOD REPAIR, SURFACES CLEAN AND DUST-LESS CLEANING METHODS - Comments:  | 36. LIGHTING: REQUIRED MINIMUM FOOT-CANDLES OF LIGHT PROVIDED, FIXTURES SHIELDED - Comments: ',\n",
       "       '2. FACILITIES TO MAINTAIN PROPER TEMPERATURE - Comments: cooler shows 39.2 F able to hold cold food at 40F or below',\n",
       "       '18. NO EVIDENCE OF RODENT OR INSECT OUTER OPENINGS PROTECTED/RODENT PROOFED, A WRITTEN LOG SHALL BE MAINTAINED AVAILABLE TO THE INSPECTORS - Comments: All necessary control measures shall be used to effectively minimize or eliminate the presence of rodents, roaches, and other vermin and insects on the premises of all food establishments, in food-transporting vehicles, and in vending machines. \\n \\nFront patio door not rodent proofed. Basement rear door not rodent proofed. Must seal and maintain all outer openings. | 19. OUTSIDE GARBAGE WASTE GREASE AND STORAGE AREA; CLEAN, RODENT PROOF, ALL CONTAINERS COVERED - Comments: The area outside of the establishment used for the storage of garbage shall be clean at all times and shall not constitute a nuisance. \\n \\nOutside garbage area not maintained. Must clean all areas to remove grease and food debris. Must close all dumpsters. Must clean and maintain at all times. | 32. FOOD AND NON-FOOD CONTACT SURFACES PROPERLY DESIGNED, CONSTRUCTED AND MAINTAINED - Comments: All food and non-food contact equipment and utensils shall be smooth, easily cleanable, and durable, and shall be in good repair. \\n \\nAll cutting boards in need of replacing due to being worn and stained. | 33. FOOD AND NON-FOOD CONTACT EQUIPMENT UTENSILS CLEAN, FREE OF ABRASIVE DETERGENTS - Comments: All food and non-food contact surfaces of equipment and all food storage utensils shall be thoroughly cleaned and sanitized daily. All utensils shall be thoroughly cleaned and sanitized after each usage. \\n \\nThe following equipment in need of cleaning:  all cooking equipment, sinks, soda box shelves, interior of reach-in and dish machine are. Must clean and maintain. | 34. FLOORS: CONSTRUCTED PER CODE, CLEANED, GOOD REPAIR, COVING INSTALLED, DUST-LESS CLEANING METHODS USED - Comments: The floors shall be constructed per code, be smooth and easily cleaned, and be kept clean and in good repair. \\n \\nAll floors through out in need of cleaning to remove build-up.  Floor area at stoves in need of regrouting. Must correct and maintain. | 35. WALLS, CEILINGS, ATTACHED EQUIPMENT CONSTRUCTED PER CODE: GOOD REPAIR, SURFACES CLEAN AND DUST-LESS CLEANING METHODS - Comments: The walls and ceilings shall be in good repair and easily cleaned. Use dustless cleaning methods. \\n \\nAll wall in need of cleaning to remove food splatters. Wall in basement storage area in need of repair of all broken tiles. Must correct and maintain. | 36. LIGHTING: REQUIRED MINIMUM FOOT-CANDLES OF LIGHT PROVIDED, FIXTURES SHIELDED - Comments: All rooms in which food or drink is prepared, or in which utensils are washed, shall be lighted so that a minimum of 50-foot candles of light is available on all work surfaces. Shielding to protect against broken glass falling into food shall be provided for all artificial lighting sources in preparation, service, and display facilities. \\n \\nlights in basement and 1st floior in need of proper shields. Must install and maintain. | 37. TOILET ROOM DOORS SELF CLOSING: DRESSING ROOMS WITH LOCKERS PROVIDED: COMPLETE SEPARATION FROM LIVING/SLEEPING QUARTERS - Comments: None of the operations connected with food establishments shall be conducted in any room used as living or sleeping quarters. Toilet rooms shall be completely enclosed and shall be vented to the outside air or mechanically ventilated. \\n \\nMust install self-closing device to 2nd floor employee washroom. | 38. VENTILATION: ROOMS AND EQUIPMENT VENTED AS REQUIRED: PLUMBING: INSTALLED AND MAINTAINED - Comments: The flow of air discharged from kitchen fans shall always be through a duct to a point above the roofline. Ventilation: All plumbing fixtures, such as toilets, sinks, washbasins, etc., must be adequately trapped, vented, and re-vented and properly connected to the sewer in accordance with the plumbing chapter of the Municipal Code of Chicago and the Rules and Regulations of the Board of Health. \\n \\nMust correct leak at faucet at basement prep sink.  Must install dipper well at ice cream section. | 39. LINEN: CLEAN AND SOILED PROPERLY STORED - Comments: Soiled and clean linens, coats, and aprons shall be properly stored \\n \\nAll linen dirty and clean must be stored properly. must maintain. | 41. PREMISES MAINTAINED FREE OF LITTER, UNNECESSARY ARTICLES, CLEANING  EQUIPMENT PROPERLY STORED - Comments: All parts of the food establishment and all parts of the property used in connection with the operation of the establishment shall be kept neat and clean and should not produce any offensive odors. Cleaning equipment shall be properly stored away from food, utensils, equipment, and clean linens. \\n \\nAll unnecessary clutter in basement storage area must be removed. Must maintain.'], dtype=object)"
      ]
     },
     "execution_count": 5,
     "metadata": {},
     "output_type": "execute_result"
    }
   ],
   "source": [
    "data_FI.Violations.unique()"
   ]
  },
  {
   "cell_type": "markdown",
   "metadata": {},
   "source": [
    "Two problems:\n",
    "\n",
    "* Multiple Violations counted as different\n",
    "* comments Section counts as different\n",
    "\n",
    "Solution: Lists of individual violations for each establishment with comments removed"
   ]
  },
  {
   "cell_type": "code",
   "execution_count": 6,
   "metadata": {
    "collapsed": false
   },
   "outputs": [],
   "source": [
    "import re\n",
    "\n",
    "# cleaned data. will be inputted into DF after cleaning\n",
    "viol_list_of_lists = []\n",
    "\n",
    "for i, viol in enumerate(data_FI.Violations):\n",
    "    # for each establishment\n",
    "    viols = []\n",
    "    \n",
    "    # if nan, no complaints\n",
    "    if pd.isnull(viol):\n",
    "        viol_list_of_lists.append(viols)\n",
    "    else:\n",
    "        # split into separate complaints\n",
    "        viols = viol.split(' | ')\n",
    "        for j, complaint in enumerate(viols):\n",
    "            complaint = complaint.split(' - Comments: ')[0]\n",
    "            viols[j] = complaint\n",
    "        viol_list_of_lists.append(viols)"
   ]
  },
  {
   "cell_type": "code",
   "execution_count": 7,
   "metadata": {
    "collapsed": false
   },
   "outputs": [],
   "source": [
    "violations_df = pd.Series([item for sublist in viol_list_of_lists for item in sublist])"
   ]
  },
  {
   "cell_type": "code",
   "execution_count": 8,
   "metadata": {
    "collapsed": false
   },
   "outputs": [
    {
     "data": {
      "text/plain": [
       "46"
      ]
     },
     "execution_count": 8,
     "metadata": {},
     "output_type": "execute_result"
    }
   ],
   "source": [
    "len(violations_df.unique())"
   ]
  },
  {
   "cell_type": "code",
   "execution_count": 9,
   "metadata": {
    "collapsed": false
   },
   "outputs": [
    {
     "data": {
      "text/plain": [
       "array([ '32. FOOD AND NON-FOOD CONTACT SURFACES PROPERLY DESIGNED, CONSTRUCTED AND MAINTAINED',\n",
       "       '38. VENTILATION: ROOMS AND EQUIPMENT VENTED AS REQUIRED: PLUMBING: INSTALLED AND MAINTAINED',\n",
       "       '43. FOOD (ICE) DISPENSING UTENSILS, WASH CLOTHS PROPERLY STORED',\n",
       "       '33. FOOD AND NON-FOOD CONTACT EQUIPMENT UTENSILS CLEAN, FREE OF ABRASIVE DETERGENTS',\n",
       "       '35. WALLS, CEILINGS, ATTACHED EQUIPMENT CONSTRUCTED PER CODE: GOOD REPAIR, SURFACES CLEAN AND DUST-LESS CLEANING METHODS',\n",
       "       '41. PREMISES MAINTAINED FREE OF LITTER, UNNECESSARY ARTICLES, CLEANING  EQUIPMENT PROPERLY STORED',\n",
       "       '34. FLOORS: CONSTRUCTED PER CODE, CLEANED, GOOD REPAIR, COVING INSTALLED, DUST-LESS CLEANING METHODS USED',\n",
       "       '18. NO EVIDENCE OF RODENT OR INSECT OUTER OPENINGS PROTECTED/RODENT PROOFED, A WRITTEN LOG SHALL BE MAINTAINED AVAILABLE TO THE INSPECTORS',\n",
       "       '24. DISH WASHING FACILITIES: PROPERLY DESIGNED, CONSTRUCTED, MAINTAINED, INSTALLED, LOCATED AND OPERATED',\n",
       "       '37. TOILET ROOM DOORS SELF CLOSING: DRESSING ROOMS WITH LOCKERS PROVIDED: COMPLETE SEPARATION FROM LIVING/SLEEPING QUARTERS',\n",
       "       '36. LIGHTING: REQUIRED MINIMUM FOOT-CANDLES OF LIGHT PROVIDED, FIXTURES SHIELDED',\n",
       "       '19. OUTSIDE GARBAGE WASTE GREASE AND STORAGE AREA; CLEAN, RODENT PROOF, ALL CONTAINERS COVERED',\n",
       "       '21. * CERTIFIED FOOD MANAGER ON SITE WHEN POTENTIALLY HAZARDOUS FOODS ARE  PREPARED AND SERVED',\n",
       "       '29. PREVIOUS MINOR VIOLATION(S) CORRECTED 7-42-090',\n",
       "       '22. DISH MACHINES: PROVIDED WITH ACCURATE THERMOMETERS, CHEMICAL TEST KITS AND SUITABLE GAUGE COCK',\n",
       "       '40. REFRIGERATION AND METAL STEM THERMOMETERS PROVIDED AND CONSPICUOUS',\n",
       "       '12. HAND WASHING FACILITIES: WITH SOAP AND SANITARY HAND DRYING DEVICES, CONVENIENT AND ACCESSIBLE TO FOOD PREP AREA',\n",
       "       '39. LINEN: CLEAN AND SOILED PROPERLY STORED',\n",
       "       '2. FACILITIES TO MAINTAIN PROPER TEMPERATURE',\n",
       "       '3. POTENTIALLY HAZARDOUS FOOD MEETS TEMPERATURE REQUIREMENT DURING STORAGE, PREPARATION DISPLAY AND SERVICE',\n",
       "       '11. ADEQUATE NUMBER, CONVENIENT, ACCESSIBLE, DESIGNED, AND MAINTAINED',\n",
       "       '16. FOOD PROTECTED DURING STORAGE, PREPARATION, DISPLAY, SERVICE AND TRANSPORTATION',\n",
       "       '45. FOOD HANDLER REQUIREMENTS MET',\n",
       "       '44. ONLY AUTHORIZED PERSONNEL IN THE FOOD-PREP AREA',\n",
       "       '28. * INSPECTION REPORT SUMMARY DISPLAYED AND VISIBLE TO ALL CUSTOMERS',\n",
       "       '42. APPROPRIATE METHOD OF HANDLING OF FOOD (ICE) HAIR RESTRAINTS AND CLEAN APPAREL WORN',\n",
       "       '30. FOOD IN ORIGINAL CONTAINER, PROPERLY LABELED: CUSTOMER ADVISORY POSTED AS NEEDED',\n",
       "       '8. SANITIZING RINSE FOR EQUIPMENT AND UTENSILS:  CLEAN, PROPER TEMPERATURE, CONCENTRATION, EXPOSURE TIME',\n",
       "       '26. ADEQUATE NUMBER, CONVENIENT, ACCESSIBLE, PROPERLY DESIGNED AND INSTALLED',\n",
       "       '31. CLEAN MULTI-USE UTENSILS AND SINGLE SERVICE ARTICLES PROPERLY STORED: NO REUSE OF SINGLE SERVICE ARTICLES',\n",
       "       '1. SOURCE SOUND CONDITION, NO SPOILAGE, FOODS PROPERLY LABELED, SHELLFISH TAGS IN PLACE',\n",
       "       '14. PREVIOUS SERIOUS VIOLATION CORRECTED, 7-42-090',\n",
       "       '10. SEWAGE AND WASTE WATER DISPOSAL, NO BACK SIPHONAGE, CROSS  CONNECTION AND/OR BACK FLOW',\n",
       "       '9. WATER SOURCE: SAFE, HOT & COLD UNDER CITY PRESSURE',\n",
       "       '13. NO EVIDENCE OF RODENT OR INSECT INFESTATION, NO BIRDS, TURTLES OR OTHER ANIMALS',\n",
       "       '6. HANDS WASHED AND CLEANED, GOOD HYGIENIC PRACTICES; NO BARE HAND CONTACT WITH READY-TO-EAT FOODS.',\n",
       "       '4. SOURCE OF CROSS CONTAMINATION CONTROLLED I.E. CUTTING BOARDS, FOOD  HANDLERS, UTENSILS, ETC',\n",
       "       '27. TOILET ROOMS ENCLOSED CLEAN, PROVIDED WITH HAND CLEANSER, SANITARY HAND DRYING DEVICES AND PROPER WASTE RECEPTACLES',\n",
       "       '17. POTENTIALLY HAZARDOUS FOOD PROPERLY THAWED',\n",
       "       '70. NO SMOKING REGULATIONS',\n",
       "       '7. WASH AND RINSE WATER: CLEAN AND PROPER TEMPERATURE',\n",
       "       '20. INSIDE CONTAINERS OR RECEPTACLES: ADEQUATE NUMBER, PROPERLY COVERED AND INSECT/RODENT PROOF',\n",
       "       '25. TOXIC ITEMS PROPERLY STORED, LABELED AND USED',\n",
       "       '23. DISHES AND UTENSILS FLUSHED, SCRAPED, SOAKED',\n",
       "       '5. PERSONNEL WITH INFECTIONS RESTRICTED: NO OPEN SORES, WOUNDS, ETC',\n",
       "       '15. UNWRAPPED AND POTENTIALLY HAZARDOUS FOOD NOT RE-SERVED'], dtype=object)"
      ]
     },
     "execution_count": 9,
     "metadata": {},
     "output_type": "execute_result"
    }
   ],
   "source": [
    "violations_df.unique()"
   ]
  },
  {
   "cell_type": "markdown",
   "metadata": {},
   "source": [
    "Would be great to hash by number but have a reference dictionary to recover the actual violation."
   ]
  },
  {
   "cell_type": "code",
   "execution_count": 10,
   "metadata": {
    "collapsed": true
   },
   "outputs": [],
   "source": [
    "violation_code_dict = {}\n",
    "for viol in violations_df:\n",
    "    code = viol.split('. ')[0]\n",
    "    viol_ = viol.split('. ')[1]\n",
    "    violation_code_dict[code] = viol_"
   ]
  },
  {
   "cell_type": "code",
   "execution_count": 11,
   "metadata": {
    "collapsed": false
   },
   "outputs": [
    {
     "data": {
      "text/plain": [
       "{'1': 'SOURCE SOUND CONDITION, NO SPOILAGE, FOODS PROPERLY LABELED, SHELLFISH TAGS IN PLACE',\n",
       " '10': 'SEWAGE AND WASTE WATER DISPOSAL, NO BACK SIPHONAGE, CROSS  CONNECTION AND/OR BACK FLOW',\n",
       " '11': 'ADEQUATE NUMBER, CONVENIENT, ACCESSIBLE, DESIGNED, AND MAINTAINED',\n",
       " '12': 'HAND WASHING FACILITIES: WITH SOAP AND SANITARY HAND DRYING DEVICES, CONVENIENT AND ACCESSIBLE TO FOOD PREP AREA',\n",
       " '13': 'NO EVIDENCE OF RODENT OR INSECT INFESTATION, NO BIRDS, TURTLES OR OTHER ANIMALS',\n",
       " '14': 'PREVIOUS SERIOUS VIOLATION CORRECTED, 7-42-090',\n",
       " '15': 'UNWRAPPED AND POTENTIALLY HAZARDOUS FOOD NOT RE-SERVED',\n",
       " '16': 'FOOD PROTECTED DURING STORAGE, PREPARATION, DISPLAY, SERVICE AND TRANSPORTATION',\n",
       " '17': 'POTENTIALLY HAZARDOUS FOOD PROPERLY THAWED',\n",
       " '18': 'NO EVIDENCE OF RODENT OR INSECT OUTER OPENINGS PROTECTED/RODENT PROOFED, A WRITTEN LOG SHALL BE MAINTAINED AVAILABLE TO THE INSPECTORS',\n",
       " '19': 'OUTSIDE GARBAGE WASTE GREASE AND STORAGE AREA; CLEAN, RODENT PROOF, ALL CONTAINERS COVERED',\n",
       " '2': 'FACILITIES TO MAINTAIN PROPER TEMPERATURE',\n",
       " '20': 'INSIDE CONTAINERS OR RECEPTACLES: ADEQUATE NUMBER, PROPERLY COVERED AND INSECT/RODENT PROOF',\n",
       " '21': '* CERTIFIED FOOD MANAGER ON SITE WHEN POTENTIALLY HAZARDOUS FOODS ARE  PREPARED AND SERVED',\n",
       " '22': 'DISH MACHINES: PROVIDED WITH ACCURATE THERMOMETERS, CHEMICAL TEST KITS AND SUITABLE GAUGE COCK',\n",
       " '23': 'DISHES AND UTENSILS FLUSHED, SCRAPED, SOAKED',\n",
       " '24': 'DISH WASHING FACILITIES: PROPERLY DESIGNED, CONSTRUCTED, MAINTAINED, INSTALLED, LOCATED AND OPERATED',\n",
       " '25': 'TOXIC ITEMS PROPERLY STORED, LABELED AND USED',\n",
       " '26': 'ADEQUATE NUMBER, CONVENIENT, ACCESSIBLE, PROPERLY DESIGNED AND INSTALLED',\n",
       " '27': 'TOILET ROOMS ENCLOSED CLEAN, PROVIDED WITH HAND CLEANSER, SANITARY HAND DRYING DEVICES AND PROPER WASTE RECEPTACLES',\n",
       " '28': '* INSPECTION REPORT SUMMARY DISPLAYED AND VISIBLE TO ALL CUSTOMERS',\n",
       " '29': 'PREVIOUS MINOR VIOLATION(S) CORRECTED 7-42-090',\n",
       " '3': 'POTENTIALLY HAZARDOUS FOOD MEETS TEMPERATURE REQUIREMENT DURING STORAGE, PREPARATION DISPLAY AND SERVICE',\n",
       " '30': 'FOOD IN ORIGINAL CONTAINER, PROPERLY LABELED: CUSTOMER ADVISORY POSTED AS NEEDED',\n",
       " '31': 'CLEAN MULTI-USE UTENSILS AND SINGLE SERVICE ARTICLES PROPERLY STORED: NO REUSE OF SINGLE SERVICE ARTICLES',\n",
       " '32': 'FOOD AND NON-FOOD CONTACT SURFACES PROPERLY DESIGNED, CONSTRUCTED AND MAINTAINED',\n",
       " '33': 'FOOD AND NON-FOOD CONTACT EQUIPMENT UTENSILS CLEAN, FREE OF ABRASIVE DETERGENTS',\n",
       " '34': 'FLOORS: CONSTRUCTED PER CODE, CLEANED, GOOD REPAIR, COVING INSTALLED, DUST-LESS CLEANING METHODS USED',\n",
       " '35': 'WALLS, CEILINGS, ATTACHED EQUIPMENT CONSTRUCTED PER CODE: GOOD REPAIR, SURFACES CLEAN AND DUST-LESS CLEANING METHODS',\n",
       " '36': 'LIGHTING: REQUIRED MINIMUM FOOT-CANDLES OF LIGHT PROVIDED, FIXTURES SHIELDED',\n",
       " '37': 'TOILET ROOM DOORS SELF CLOSING: DRESSING ROOMS WITH LOCKERS PROVIDED: COMPLETE SEPARATION FROM LIVING/SLEEPING QUARTERS',\n",
       " '38': 'VENTILATION: ROOMS AND EQUIPMENT VENTED AS REQUIRED: PLUMBING: INSTALLED AND MAINTAINED',\n",
       " '39': 'LINEN: CLEAN AND SOILED PROPERLY STORED',\n",
       " '4': 'SOURCE OF CROSS CONTAMINATION CONTROLLED I.E',\n",
       " '40': 'REFRIGERATION AND METAL STEM THERMOMETERS PROVIDED AND CONSPICUOUS',\n",
       " '41': 'PREMISES MAINTAINED FREE OF LITTER, UNNECESSARY ARTICLES, CLEANING  EQUIPMENT PROPERLY STORED',\n",
       " '42': 'APPROPRIATE METHOD OF HANDLING OF FOOD (ICE) HAIR RESTRAINTS AND CLEAN APPAREL WORN',\n",
       " '43': 'FOOD (ICE) DISPENSING UTENSILS, WASH CLOTHS PROPERLY STORED',\n",
       " '44': 'ONLY AUTHORIZED PERSONNEL IN THE FOOD-PREP AREA',\n",
       " '45': 'FOOD HANDLER REQUIREMENTS MET',\n",
       " '5': 'PERSONNEL WITH INFECTIONS RESTRICTED: NO OPEN SORES, WOUNDS, ETC',\n",
       " '6': 'HANDS WASHED AND CLEANED, GOOD HYGIENIC PRACTICES; NO BARE HAND CONTACT WITH READY-TO-EAT FOODS.',\n",
       " '7': 'WASH AND RINSE WATER: CLEAN AND PROPER TEMPERATURE',\n",
       " '70': 'NO SMOKING REGULATIONS',\n",
       " '8': 'SANITIZING RINSE FOR EQUIPMENT AND UTENSILS:  CLEAN, PROPER TEMPERATURE, CONCENTRATION, EXPOSURE TIME',\n",
       " '9': 'WATER SOURCE: SAFE, HOT & COLD UNDER CITY PRESSURE'}"
      ]
     },
     "execution_count": 11,
     "metadata": {},
     "output_type": "execute_result"
    }
   ],
   "source": [
    "violation_code_dict"
   ]
  },
  {
   "cell_type": "code",
   "execution_count": 12,
   "metadata": {
    "collapsed": false
   },
   "outputs": [],
   "source": [
    "# number of violations per establisment\n",
    "no_viols = [len(x) for x in viol_list_of_lists]"
   ]
  },
  {
   "cell_type": "code",
   "execution_count": 13,
   "metadata": {
    "collapsed": false
   },
   "outputs": [],
   "source": [
    "no_viols_df = pd.Series(data=no_viols, index=data_FI['Inspection ID'], name='Number of Violations')"
   ]
  },
  {
   "cell_type": "code",
   "execution_count": 14,
   "metadata": {
    "collapsed": false
   },
   "outputs": [
    {
     "name": "stdout",
     "output_type": "stream",
     "text": [
      "0.00     0.0\n",
      "0.25     1.0\n",
      "0.50     3.0\n",
      "0.75     6.0\n",
      "1.00    23.0\n",
      "Name: Number of Violations, dtype: float64\n"
     ]
    },
    {
     "data": {
      "image/png": "[encoded data removed]",
      "text/plain": [
       "<matplotlib.figure.Figure at 0x9706518>"
      ]
     },
     "metadata": {},
     "output_type": "display_data"
    }
   ],
   "source": [
    "no_viols_df.hist()\n",
    "print no_viols_df.quantile([0, 0.25, 0.5, 0.75, 1.])"
   ]
  },
  {
   "cell_type": "code",
   "execution_count": 15,
   "metadata": {
    "collapsed": false
   },
   "outputs": [
    {
     "data": {
      "text/plain": [
       "1115232"
      ]
     },
     "execution_count": 15,
     "metadata": {},
     "output_type": "execute_result"
    }
   ],
   "source": [
    "no_viols_df.idxmax()"
   ]
  },
  {
   "cell_type": "code",
   "execution_count": 16,
   "metadata": {
    "collapsed": false
   },
   "outputs": [
    {
     "data": {
      "text/html": [
       "<div>\n",
       "<table border=\"1\" class=\"dataframe\">\n",
       "  <thead>\n",
       "    <tr style=\"text-align: right;\">\n",
       "      <th></th>\n",
       "      <th>Inspection ID</th>\n",
       "      <th>DBA Name</th>\n",
       "      <th>AKA Name</th>\n",
       "      <th>License #</th>\n",
       "      <th>Facility Type</th>\n",
       "      <th>Risk</th>\n",
       "      <th>Address</th>\n",
       "      <th>City</th>\n",
       "      <th>State</th>\n",
       "      <th>Zip</th>\n",
       "      <th>Inspection Date</th>\n",
       "      <th>Inspection Type</th>\n",
       "      <th>Results</th>\n",
       "      <th>Violations</th>\n",
       "      <th>Latitude</th>\n",
       "      <th>Longitude</th>\n",
       "      <th>Location</th>\n",
       "    </tr>\n",
       "  </thead>\n",
       "  <tbody>\n",
       "    <tr>\n",
       "      <th>53468</th>\n",
       "      <td>1115232</td>\n",
       "      <td>RACINE BAKERY INC</td>\n",
       "      <td>RACINE BAKERY INC</td>\n",
       "      <td>15456.0</td>\n",
       "      <td>Bakery</td>\n",
       "      <td>Risk 1 (High)</td>\n",
       "      <td>6216 S ARCHER AVE</td>\n",
       "      <td>CHICAGO</td>\n",
       "      <td>IL</td>\n",
       "      <td>60638.0</td>\n",
       "      <td>03/27/2014</td>\n",
       "      <td>Complaint</td>\n",
       "      <td>Pass w/ Conditions</td>\n",
       "      <td>41. PREMISES MAINTAINED FREE OF LITTER, UNNECE...</td>\n",
       "      <td>41.793838</td>\n",
       "      <td>-87.775305</td>\n",
       "      <td>(41.79383817679765, -87.77530511023124)</td>\n",
       "    </tr>\n",
       "  </tbody>\n",
       "</table>\n",
       "</div>"
      ],
      "text/plain": [
       "       Inspection ID           DBA Name           AKA Name  License #  \\\n",
       "53468        1115232  RACINE BAKERY INC  RACINE BAKERY INC    15456.0   \n",
       "\n",
       "      Facility Type           Risk             Address     City State  \\\n",
       "53468        Bakery  Risk 1 (High)  6216 S ARCHER AVE   CHICAGO    IL   \n",
       "\n",
       "           Zip Inspection Date Inspection Type             Results  \\\n",
       "53468  60638.0      03/27/2014       Complaint  Pass w/ Conditions   \n",
       "\n",
       "                                              Violations   Latitude  \\\n",
       "53468  41. PREMISES MAINTAINED FREE OF LITTER, UNNECE...  41.793838   \n",
       "\n",
       "       Longitude                                 Location  \n",
       "53468 -87.775305  (41.79383817679765, -87.77530511023124)  "
      ]
     },
     "execution_count": 16,
     "metadata": {},
     "output_type": "execute_result"
    }
   ],
   "source": [
    "data_FI[data_FI['Inspection ID'] == no_viols_df.idxmax()]"
   ]
  },
  {
   "cell_type": "markdown",
   "metadata": {},
   "source": [
    "### Risk Level Hashing"
   ]
  },
  {
   "cell_type": "code",
   "execution_count": 17,
   "metadata": {
    "collapsed": false
   },
   "outputs": [],
   "source": [
    "def risk_hash(x):\n",
    "    if x == 'All':\n",
    "        # catchall\n",
    "        return -1\n",
    "    elif pd.isnull(x):\n",
    "        return 0\n",
    "    else:\n",
    "        return int(x.split(' ')[1])\n",
    "\n",
    "riskhash = data_FI['Risk'].apply(lambda x: risk_hash(x))\n",
    "riskhash.index = data_FI['Inspection ID']"
   ]
  },
  {
   "cell_type": "code",
   "execution_count": 18,
   "metadata": {
    "collapsed": false
   },
   "outputs": [
    {
     "data": {
      "text/plain": [
       "array([ 2,  1,  3, -1,  0], dtype=int64)"
      ]
     },
     "execution_count": 18,
     "metadata": {},
     "output_type": "execute_result"
    }
   ],
   "source": [
    "riskhash.unique()"
   ]
  },
  {
   "cell_type": "code",
   "execution_count": 19,
   "metadata": {
    "collapsed": true
   },
   "outputs": [],
   "source": [
    "riskhash_dict = {\n",
    "    1 : 'High',\n",
    "    2 : 'Medium',\n",
    "    3 : 'Low',\n",
    "    0 : 'None',\n",
    "    -1 : 'All',\n",
    "}"
   ]
  },
  {
   "cell_type": "code",
   "execution_count": 20,
   "metadata": {
    "collapsed": false
   },
   "outputs": [
    {
     "data": {
      "text/plain": [
       "Inspection ID\n",
       "1967170    2\n",
       "1967164    1\n",
       "1967146    1\n",
       "1967133    1\n",
       "1967115    1\n",
       "1967120    1\n",
       "1967112    2\n",
       "1967103    1\n",
       "1951286    1\n",
       "1966968    1\n",
       "1967089    1\n",
       "1967085    1\n",
       "1967075    1\n",
       "1967062    1\n",
       "1967051    2\n",
       "1967057    2\n",
       "1966757    2\n",
       "1967040    1\n",
       "1967036    3\n",
       "1967043    2\n",
       "1967032    1\n",
       "1967029    1\n",
       "1966991    1\n",
       "1967022    1\n",
       "1967000    2\n",
       "1966997    2\n",
       "1967002    3\n",
       "1966993    1\n",
       "1955305    1\n",
       "1966959    1\n",
       "          ..\n",
       "74257      3\n",
       "70272      1\n",
       "67746      3\n",
       "68251      3\n",
       "67743      1\n",
       "98314      1\n",
       "114255     1\n",
       "160208     1\n",
       "70271      1\n",
       "67744      1\n",
       "158242     2\n",
       "160207     1\n",
       "67741      3\n",
       "68250      1\n",
       "74256      1\n",
       "67739      1\n",
       "120270     1\n",
       "96246      1\n",
       "67736      2\n",
       "160206     1\n",
       "164252     2\n",
       "114254     1\n",
       "118296     1\n",
       "98313      3\n",
       "67733      1\n",
       "67732      1\n",
       "67757      2\n",
       "52234      1\n",
       "70269      1\n",
       "104236     1\n",
       "Name: Risk, dtype: int64"
      ]
     },
     "execution_count": 20,
     "metadata": {},
     "output_type": "execute_result"
    }
   ],
   "source": [
    "riskhash"
   ]
  },
  {
   "cell_type": "code",
   "execution_count": 21,
   "metadata": {
    "collapsed": false
   },
   "outputs": [],
   "source": [
    "risk_viol_df = pd.DataFrame([riskhash, no_viols_df]).transpose()"
   ]
  },
  {
   "cell_type": "code",
   "execution_count": 22,
   "metadata": {
    "collapsed": false
   },
   "outputs": [
    {
     "data": {
      "text/html": [
       "<div>\n",
       "<table border=\"1\" class=\"dataframe\">\n",
       "  <thead>\n",
       "    <tr style=\"text-align: right;\">\n",
       "      <th></th>\n",
       "      <th>Risk</th>\n",
       "      <th>Number of Violations</th>\n",
       "    </tr>\n",
       "    <tr>\n",
       "      <th>Inspection ID</th>\n",
       "      <th></th>\n",
       "      <th></th>\n",
       "    </tr>\n",
       "  </thead>\n",
       "  <tbody>\n",
       "    <tr>\n",
       "      <th>1967170</th>\n",
       "      <td>2</td>\n",
       "      <td>0</td>\n",
       "    </tr>\n",
       "    <tr>\n",
       "      <th>1967164</th>\n",
       "      <td>1</td>\n",
       "      <td>6</td>\n",
       "    </tr>\n",
       "    <tr>\n",
       "      <th>1967146</th>\n",
       "      <td>1</td>\n",
       "      <td>0</td>\n",
       "    </tr>\n",
       "    <tr>\n",
       "      <th>1967133</th>\n",
       "      <td>1</td>\n",
       "      <td>3</td>\n",
       "    </tr>\n",
       "    <tr>\n",
       "      <th>1967115</th>\n",
       "      <td>1</td>\n",
       "      <td>0</td>\n",
       "    </tr>\n",
       "  </tbody>\n",
       "</table>\n",
       "</div>"
      ],
      "text/plain": [
       "               Risk  Number of Violations\n",
       "Inspection ID                            \n",
       "1967170           2                     0\n",
       "1967164           1                     6\n",
       "1967146           1                     0\n",
       "1967133           1                     3\n",
       "1967115           1                     0"
      ]
     },
     "execution_count": 22,
     "metadata": {},
     "output_type": "execute_result"
    }
   ],
   "source": [
    "risk_viol_df.head()"
   ]
  },
  {
   "cell_type": "code",
   "execution_count": 23,
   "metadata": {
    "collapsed": false
   },
   "outputs": [
    {
     "data": {
      "text/html": [
       "<div>\n",
       "<table border=\"1\" class=\"dataframe\">\n",
       "  <thead>\n",
       "    <tr style=\"text-align: right;\">\n",
       "      <th></th>\n",
       "      <th>Number of Violations</th>\n",
       "    </tr>\n",
       "    <tr>\n",
       "      <th>Risk</th>\n",
       "      <th></th>\n",
       "    </tr>\n",
       "  </thead>\n",
       "  <tbody>\n",
       "    <tr>\n",
       "      <th>-1</th>\n",
       "      <td>0.000000</td>\n",
       "    </tr>\n",
       "    <tr>\n",
       "      <th>0</th>\n",
       "      <td>0.048387</td>\n",
       "    </tr>\n",
       "    <tr>\n",
       "      <th>1</th>\n",
       "      <td>3.993918</td>\n",
       "    </tr>\n",
       "    <tr>\n",
       "      <th>2</th>\n",
       "      <td>3.516881</td>\n",
       "    </tr>\n",
       "    <tr>\n",
       "      <th>3</th>\n",
       "      <td>2.316363</td>\n",
       "    </tr>\n",
       "  </tbody>\n",
       "</table>\n",
       "</div>"
      ],
      "text/plain": [
       "      Number of Violations\n",
       "Risk                      \n",
       "-1                0.000000\n",
       " 0                0.048387\n",
       " 1                3.993918\n",
       " 2                3.516881\n",
       " 3                2.316363"
      ]
     },
     "execution_count": 23,
     "metadata": {},
     "output_type": "execute_result"
    }
   ],
   "source": [
    "risk_viol_df.groupby('Risk').mean()"
   ]
  },
  {
   "cell_type": "markdown",
   "metadata": {},
   "source": [
    "Risk level appears to be weakly predictive."
   ]
  },
  {
   "cell_type": "markdown",
   "metadata": {},
   "source": [
    "#### High Risk Histogram"
   ]
  },
  {
   "cell_type": "code",
   "execution_count": 24,
   "metadata": {
    "collapsed": false
   },
   "outputs": [
    {
     "data": {
      "text/plain": [
       "Risk\n",
       "-1    [[Axes(0.125,0.125;0.775x0.775)]]\n",
       " 0    [[Axes(0.125,0.125;0.775x0.775)]]\n",
       " 1    [[Axes(0.125,0.125;0.775x0.775)]]\n",
       " 2    [[Axes(0.125,0.125;0.775x0.775)]]\n",
       " 3    [[Axes(0.125,0.125;0.775x0.775)]]\n",
       "dtype: object"
      ]
     },
     "execution_count": 24,
     "metadata": {},
     "output_type": "execute_result"
    },
    {
     "data": {
      "image/png": "[encoded data removed]",
      "text/plain": [
       "<matplotlib.figure.Figure at 0x13918e80>"
      ]
     },
     "metadata": {},
     "output_type": "display_data"
    },
    {
     "data": {
      "image/png": "[encoded data removed]",
      "text/plain": [
       "<matplotlib.figure.Figure at 0x138d04e0>"
      ]
     },
     "metadata": {},
     "output_type": "display_data"
    },
    {
     "data": {
      "image/png": "[encoded data removed]",
      "text/plain": [
       "<matplotlib.figure.Figure at 0x1e891f60>"
      ]
     },
     "metadata": {},
     "output_type": "display_data"
    },
    {
     "data": {
      "image/png": "[encoded data removed]",
      "text/plain": [
       "<matplotlib.figure.Figure at 0x1ef59a58>"
      ]
     },
     "metadata": {},
     "output_type": "display_data"
    },
    {
     "data": {
      "image/png": "[encoded data removed]",
      "text/plain": [
       "<matplotlib.figure.Figure at 0x1d702748>"
      ]
     },
     "metadata": {},
     "output_type": "display_data"
    }
   ],
   "source": [
    "risk_viol_df.groupby('Risk').hist(bins=50)"
   ]
  },
  {
   "cell_type": "markdown",
   "metadata": {},
   "source": [
    "Might need a mixed model: ZIP?\n",
    "\n",
    "lets have a look at High risk for ZIP:\n",
    "\n",
    "NB: $\\hat{\\lambda}_{MLE} = \\bar{X}$"
   ]
  },
  {
   "cell_type": "code",
   "execution_count": 25,
   "metadata": {
    "collapsed": false
   },
   "outputs": [],
   "source": [
    "high_risk = risk_viol_df.groupby('Risk').get_group(1)\n",
    "\n",
    "from __future__ import division\n",
    "\n",
    "# bernoulli part:\n",
    "p = len(high_risk[high_risk['Number of Violations'] == 0]) / len(high_risk)\n",
    "q = 1 - p"
   ]
  },
  {
   "cell_type": "code",
   "execution_count": 26,
   "metadata": {
    "collapsed": false
   },
   "outputs": [
    {
     "data": {
      "text/plain": [
       "92731"
      ]
     },
     "execution_count": 26,
     "metadata": {},
     "output_type": "execute_result"
    }
   ],
   "source": [
    "len(high_risk)"
   ]
  },
  {
   "cell_type": "code",
   "execution_count": 27,
   "metadata": {
    "collapsed": true
   },
   "outputs": [],
   "source": [
    "# now fit a poisson\n",
    "non_zero_high_risk = high_risk[high_risk['Number of Violations'] != 0]\n",
    "lambda_hat = non_zero_high_risk['Number of Violations'].mean()"
   ]
  },
  {
   "cell_type": "code",
   "execution_count": 28,
   "metadata": {
    "collapsed": false
   },
   "outputs": [],
   "source": [
    "# randomly generated distribution\n",
    "vals = np.empty(92731,)\n",
    "\n",
    "for i in np.arange(len(vals)):\n",
    "    if np.random.binomial(1, q, size=1)[0] == 1:\n",
    "        vals[i] = np.random.poisson(lambda_hat, size=1)\n",
    "    else:\n",
    "        vals[i] = 0"
   ]
  },
  {
   "cell_type": "code",
   "execution_count": 29,
   "metadata": {
    "collapsed": false
   },
   "outputs": [
    {
     "data": {
      "image/png": "[encoded data removed]",
      "text/plain": [
       "<matplotlib.figure.Figure at 0x1f048470>"
      ]
     },
     "metadata": {},
     "output_type": "display_data"
    }
   ],
   "source": [
    "fig, (ax1, ax2) = plt.subplots(2, 1, sharex=True, sharey=True)\n",
    "pd.Series(vals).hist(bins=50, ax=ax1)\n",
    "high_risk['Number of Violations'].hist(bins=50, ax=ax2);\n"
   ]
  },
  {
   "cell_type": "markdown",
   "metadata": {},
   "source": [
    "Issue with skew :("
   ]
  },
  {
   "cell_type": "markdown",
   "metadata": {},
   "source": [
    "### Checking Results"
   ]
  },
  {
   "cell_type": "code",
   "execution_count": 30,
   "metadata": {
    "collapsed": false
   },
   "outputs": [
    {
     "data": {
      "text/plain": [
       "array(['Pass', 'No Entry', 'Pass w/ Conditions', 'Fail', 'Out of Business',\n",
       "       'Not Ready', 'Business Not Located'], dtype=object)"
      ]
     },
     "execution_count": 30,
     "metadata": {},
     "output_type": "execute_result"
    }
   ],
   "source": [
    "data_FI['Results'].unique()"
   ]
  },
  {
   "cell_type": "code",
   "execution_count": 31,
   "metadata": {
    "collapsed": false
   },
   "outputs": [
    {
     "data": {
      "text/plain": [
       "<pandas.core.groupby.DataFrameGroupBy object at 0x0000000013918828>"
      ]
     },
     "execution_count": 31,
     "metadata": {},
     "output_type": "execute_result"
    }
   ],
   "source": [
    "data_FI.groupby('Results')"
   ]
  },
  {
   "cell_type": "code",
   "execution_count": null,
   "metadata": {
    "collapsed": true
   },
   "outputs": [],
   "source": []
  }
 ],
 "metadata": {
  "anaconda-cloud": {},
  "kernelspec": {
   "display_name": "Python 2",
   "language": "python",
   "name": "python2"
  },
  "language_info": {
   "codemirror_mode": {
    "name": "ipython",
    "version": 2
   },
   "file_extension": ".py",
   "mimetype": "text/x-python",
   "name": "python",
   "nbconvert_exporter": "python",
   "pygments_lexer": "ipython2",
   "version": "2.7.12"
  }
 },
 "nbformat": 4,
 "nbformat_minor": 1
}
